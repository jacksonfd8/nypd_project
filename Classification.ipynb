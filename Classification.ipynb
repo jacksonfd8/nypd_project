{
 "cells": [
  {
   "cell_type": "markdown",
   "metadata": {},
   "source": [
    "# Overview"
   ]
  },
  {
   "cell_type": "markdown",
   "metadata": {},
   "source": [
    "The classification task is to predict whether a suspect was arrested or not and to predict whether a suspect was frisked or not. To make predictions for each classification task, I build a logistic regression model, random forest model, and a KNN means model. \n",
    "\n",
    "Model comparison and evaluation is performed throughout."
   ]
  },
  {
   "cell_type": "markdown",
   "metadata": {},
   "source": [
    "# Data Preparation"
   ]
  },
  {
   "cell_type": "markdown",
   "metadata": {},
   "source": [
    "## Define and prepare class variables"
   ]
  },
  {
   "cell_type": "code",
   "execution_count": 1,
   "metadata": {},
   "outputs": [],
   "source": [
    "# Import Libaries\n",
    "import warnings\n",
    "warnings.filterwarnings(\"ignore\")"
   ]
  },
  {
   "cell_type": "code",
   "execution_count": 5,
   "metadata": {},
   "outputs": [],
   "source": [
    "## Reusing the data cleaning code from Mini Lab\n",
    "import pandas as pd\n",
    "import numpy as np\n",
    "import urllib\n",
    "import json\n",
    "import geopandas as gpd\n",
    "import math \n",
    "import category_encoders as ce\n",
    "\n",
    "%matplotlib inline\n",
    "from scipy import stats\n",
    "from sklearn import svm\n",
    "from sklearn.model_selection import train_test_split\n",
    "from sklearn.feature_selection import SelectFromModel\n",
    "from sklearn.ensemble import RandomForestClassifier\n",
    "from matplotlib import pyplot as plt\n",
    "from sklearn.linear_model import LogisticRegression\n",
    "from sklearn import metrics\n",
    "\n",
    "# use seaborn plotting defaults\n",
    "import seaborn as sns; sns.set()\n",
    "import warnings\n",
    "warnings.simplefilter(action='ignore', category=FutureWarning)\n",
    "\n",
    "sns.set(style=\"white\")\n",
    "sns.set(style=\"whitegrid\", color_codes=True)"
   ]
  },
  {
   "cell_type": "markdown",
   "metadata": {},
   "source": [
    "### Import cleaned dataset to use:"
   ]
  },
  {
   "cell_type": "code",
   "execution_count": 15,
   "metadata": {},
   "outputs": [],
   "source": [
    "# import data and isolate response variable\n",
    "df = pd.read_csv('nypd_cleaned.csv', low_memory=False)\n",
    "\n",
    "y = df['arstmade']"
   ]
  },
  {
   "cell_type": "markdown",
   "metadata": {},
   "source": [
    "### Use proper variable representations:"
   ]
  },
  {
   "cell_type": "code",
   "execution_count": 16,
   "metadata": {},
   "outputs": [
    {
     "data": {
      "text/plain": [
       "Unnamed: 0     int64\n",
       "pct            int64\n",
       "ser_num        int64\n",
       "datestop       int64\n",
       "timestop       int64\n",
       "recstat       object\n",
       "inout         object\n",
       "trhsloc       object\n",
       "crimsusp      object\n",
       "typeofid      object\n",
       "explnstp      object\n",
       "othpers       object\n",
       "arstmade      object\n",
       "offunif       object\n",
       "frisked       object\n",
       "searched      object\n",
       "ac_proxm      object\n",
       "rf_attir      object\n",
       "cs_cloth      object\n",
       "ac_incid      object\n",
       "repcmd        object\n",
       "revcmd         int64\n",
       "sex           object\n",
       "race          object\n",
       "age           object\n",
       "ht_feet        int64\n",
       "ht_inch        int64\n",
       "height_in      int64\n",
       "weight         int64\n",
       "haircolr      object\n",
       "eyecolor      object\n",
       "build         object\n",
       "city          object\n",
       "addrpct        int64\n",
       "dtype: object"
      ]
     },
     "execution_count": 16,
     "metadata": {},
     "output_type": "execute_result"
    }
   ],
   "source": [
    "#Let's explore the data types first, so we know what our predictor variables look like\n",
    "df.dtypes"
   ]
  },
  {
   "cell_type": "code",
   "execution_count": 17,
   "metadata": {},
   "outputs": [],
   "source": [
    "# Convert precinct from continuous to OBJECT \n",
    "df['pct'] = df['pct'].astype('category')\n",
    "\n",
    "# Convert Reporting Officer's Command (repcmd) and age OBJECT columns to NUMERIC, so they are not changed as part of the BinaryEncoders code\n",
    "\n",
    "df['repcmd'] = df['repcmd'].astype('category')\n",
    "df['repcmd'] = df['repcmd'].cat.codes\n",
    "\n",
    "df['age'] = df['age'].astype('category')\n",
    "df['age'] = df['age'].cat.codes"
   ]
  },
  {
   "cell_type": "code",
   "execution_count": 18,
   "metadata": {},
   "outputs": [],
   "source": [
    "# Capturing the variables that are categorical\n",
    "cat_list = ['pct','recstat','inout','trhsloc','crimsusp','typeofid','explnstp','othpers',\n",
    " 'arstmade','offunif','frisked','searched','ac_proxm','rf_attir','cs_cloth',\n",
    "'ac_incid','sex','race','hairclr','eyecolor','build','city']"
   ]
  },
  {
   "cell_type": "code",
   "execution_count": 19,
   "metadata": {},
   "outputs": [],
   "source": [
    "# Start the encoding process for the logistic regression \n",
    "ce_bin = ce.BinaryEncoder()\n",
    "df = ce_bin.fit_transform(df)"
   ]
  },
  {
   "cell_type": "markdown",
   "metadata": {},
   "source": [
    "### Our predictor variables will be whether or not an arrest was ultimately made by the police upon search AND whether or not a frisking occurred"
   ]
  },
  {
   "cell_type": "code",
   "execution_count": 20,
   "metadata": {},
   "outputs": [],
   "source": [
    "df = df.drop('arstmade_1',axis=1) # drop this column since task1 predictor variable will be arstmade_0\n",
    "df = df.drop('frisked_1', axis=1)# drop this column since task2 predictor variable will be frisked_0"
   ]
  },
  {
   "cell_type": "markdown",
   "metadata": {},
   "source": [
    "### Here we will utilize two dataframes because our two tasks will take on different forms of data manipulation. Further explanation in the 'Modeling and Evaluation' section. \n",
    "- Essentially our task 1 dependent variable (arstmade_0) is imbalanced, so we will utilize SMOTE\n",
    "- Task 2 dependent variable (frisked_0) is far more balanced, so we will use the df as is."
   ]
  },
  {
   "cell_type": "code",
   "execution_count": 21,
   "metadata": {},
   "outputs": [],
   "source": [
    "task1_df = df\n",
    "task2_df = df"
   ]
  },
  {
   "cell_type": "markdown",
   "metadata": {},
   "source": [
    "### Utilizing Recursive Feature Elimination (RFE), we will only use the 10 variables that are useful for Task 1's analysis. We will remove the other variables that are not needed."
   ]
  },
  {
   "cell_type": "code",
   "execution_count": 18,
   "metadata": {},
   "outputs": [
    {
     "name": "stdout",
     "output_type": "stream",
     "text": [
      "Features sorted by their rank:\n",
      "[(1, 'crimsusp_1'), (1, 'explnstp_1'), (1, 'eyecolor_0'), (1, 'frisked_0'), (1, 'inout_1'), (1, 'searched_0'), (1, 'trhsloc_1'), (1, 'typeofid_0'), (1, 'typeofid_1'), (1, 'typeofid_2'), (2, 'haircolr_1'), (3, 'sex_1'), (4, 'offunif_1'), (5, 'rf_attir_1'), (6, 'pct_2'), (7, 'pct_1'), (8, 'arstmade_0'), (9, 'crimsusp_3'), (10, 'searched_1'), (11, 'inout_0'), (12, 'cs_cloth_1'), (13, 'crimsusp_5'), (14, 'eyecolor_2'), (15, 'trhsloc_2'), (16, 'city_2'), (17, 'eyecolor_3'), (18, 'eyecolor_1'), (19, 'ac_proxm_1'), (20, 'pct_6'), (21, 'crimsusp_2'), (22, 'offunif_0'), (23, 'city_1'), (24, 'haircolr_3'), (25, 'haircolr_2'), (26, 'sex_0'), (27, 'race_1'), (28, 'cs_cloth_0'), (29, 'pct_5'), (30, 'pct_7'), (31, 'race_0'), (32, 'build_2'), (33, 'build_1'), (34, 'rf_attir_0'), (35, 'othpers_0'), (36, 'city_0'), (37, 'pct_3'), (38, 'recstat_1'), (39, 'recstat_0'), (40, 'pct_4'), (41, 'othpers_1'), (42, 'city_3'), (43, 'race_2'), (44, 'ht_feet'), (45, 'ht_inch'), (46, 'ac_proxm_0'), (47, 'ac_incid_0'), (48, 'crimsusp_4'), (49, 'ac_incid_1'), (50, 'build_0'), (51, 'race_3'), (52, 'repcmd'), (53, 'height_in'), (54, 'age'), (55, 'ser_num'), (56, 'timestop'), (57, 'Unnamed: 0'), (58, 'haircolr_0'), (59, 'sex_2'), (60, 'datestop'), (61, 'explnstp_0'), (62, 'trhsloc_0'), (63, 'build_3'), (64, 'weight'), (65, 'revcmd'), (66, 'haircolr_4'), (67, 'eyecolor_4'), (68, 'pct_0'), (69, 'crimsusp_0')]\n"
     ]
    }
   ],
   "source": [
    "from sklearn.feature_selection import RFE\n",
    "from sklearn.linear_model import LogisticRegression\n",
    "\n",
    "task1_df_rfe_vars = task1_df.columns.values.tolist()\n",
    "t1_X = task1_df.loc[:, task1_df.columns != 'arstmade_0']\n",
    "t1_y = task1_df.loc[:, task1_df.columns == 'arstmade_0']\n",
    "\n",
    "X_train, X_test, y_train, y_test = train_test_split(t1_X, t1_y, test_size=0.2, random_state=0)\n",
    "columns = X_train.columns\n",
    "\n",
    "col_names = list(task1_df.columns.values)\n",
    "\n",
    "logreg = LogisticRegression()\n",
    "\n",
    "t1rfe = RFE(logreg, 10) # select 10 best columns to predict on\n",
    "t1rfe = t1rfe.fit(X_train, y_train.values.ravel())\n",
    "\n",
    "print(\"Features sorted by their rank:\")\n",
    "print(sorted(zip(map(lambda x: round(x, 4), t1rfe.ranking_), col_names)))"
   ]
  },
  {
   "cell_type": "markdown",
   "metadata": {},
   "source": [
    "### Based on the RFE algorithm, these are the important variables we should keep for our Task 1 models. For binary variables, we will utilize the _0 suffix for easier interpretation.\n",
    "- city_1\n",
    "- crimsusp_5\n",
    "- explnstp_0\n",
    "- frisked_0\n",
    "- inout_0\n",
    "- offunif_0\n",
    "- rf_attir_0\n",
    "- searched_0\n",
    "- sex_1\n",
    "- trhsloc_0"
   ]
  },
  {
   "cell_type": "code",
   "execution_count": 19,
   "metadata": {},
   "outputs": [],
   "source": [
    "## Given that our frisked, offunif, othpers, recstate features are binary, we're going to only need one instance of this variable.\n",
    "\n",
    "## According to recursive feature elimination, these are the 10 best predictor variables, so let's put assign them\n",
    "## to rfe_cols as our final variables.\n",
    "\n",
    "t1_rfe_cols = ['city_1', 'crimsusp_5', 'explnstp_0', 'frisked_0', 'inout_0',\n",
    "              'offunif_0', 'rf_attir_0', 'searched_0', 'sex_1', 'trhsloc_0'\n",
    "             ]\n"
   ]
  },
  {
   "cell_type": "markdown",
   "metadata": {},
   "source": [
    "### We will use RFE for Task 2's analysis also. We will remove variables that are not needed."
   ]
  },
  {
   "cell_type": "code",
   "execution_count": 97,
   "metadata": {},
   "outputs": [
    {
     "name": "stdout",
     "output_type": "stream",
     "text": [
      "Features sorted by their rank:\n",
      "[(1, 'ac_proxm_1'), (1, 'arstmade_0'), (1, 'crimsusp_5'), (1, 'frisked_0'), (1, 'inout_0'), (1, 'offunif_1'), (1, 'race_2'), (1, 'rf_attir_0'), (1, 'searched_0'), (1, 'sex_1'), (2, 'city_1'), (3, 'pct_1'), (4, 'pct_3'), (5, 'haircolr_1'), (6, 'explnstp_1'), (7, 'crimsusp_3'), (8, 'crimsusp_2'), (9, 'crimsusp_4'), (10, 'city_0'), (11, 'searched_1'), (12, 'rf_attir_1'), (13, 'cs_cloth_0'), (14, 'pct_6'), (15, 'city_2'), (16, 'trhsloc_2'), (17, 'recstat_1'), (18, 'recstat_0'), (19, 'typeofid_2'), (20, 'sex_0'), (21, 'othpers_0'), (22, 'race_0'), (23, 'offunif_0'), (24, 'pct_7'), (25, 'crimsusp_1'), (26, 'build_1'), (27, 'race_1'), (28, 'trhsloc_1'), (29, 'haircolr_3'), (30, 'eyecolor_2'), (31, 'haircolr_2'), (32, 'inout_1'), (33, 'eyecolor_3'), (34, 'ht_inch'), (35, 'othpers_1'), (36, 'typeofid_1'), (37, 'city_3'), (38, 'ac_proxm_0'), (39, 'race_3'), (40, 'ht_feet'), (41, 'ac_incid_1'), (42, 'age'), (43, 'height_in'), (44, 'repcmd'), (45, 'ser_num'), (46, 'timestop'), (47, 'Unnamed: 0'), (48, 'datestop'), (49, 'cs_cloth_1'), (50, 'pct_5'), (51, 'ac_incid_0'), (52, 'build_2'), (53, 'pct_4'), (54, 'eyecolor_1'), (55, 'haircolr_0'), (56, 'sex_2'), (57, 'build_0'), (58, 'typeofid_0'), (59, 'eyecolor_0'), (60, 'pct_2'), (61, 'explnstp_0'), (62, 'weight'), (63, 'build_3'), (64, 'revcmd'), (65, 'haircolr_4'), (66, 'crimsusp_0'), (67, 'eyecolor_4'), (68, 'pct_0'), (69, 'trhsloc_0')]\n"
     ]
    }
   ],
   "source": [
    "from sklearn.feature_selection import RFE\n",
    "from sklearn.linear_model import LogisticRegression\n",
    "\n",
    "task2_df_rfe_vars = task2_df.columns.values.tolist()\n",
    "t2_X = task2_df.loc[:, task2_df.columns != 'frisked_0']\n",
    "t2_y = task2_df.loc[:, task2_df.columns == 'frisked_0']\n",
    "\n",
    "t2_col_names = list(task2_df.columns.values)\n",
    "\n",
    "logreg = LogisticRegression()\n",
    "\n",
    "t2rfe = RFE(logreg, 10) # select 10 best columns to predict on\n",
    "t2rfe = t2rfe.fit(t2_X, t2_y.values.ravel())\n",
    "\n",
    "print(\"Features sorted by their rank:\")\n",
    "print(sorted(zip(map(lambda x: round(x, 4), t2rfe.ranking_), t2_col_names)))"
   ]
  },
  {
   "cell_type": "markdown",
   "metadata": {},
   "source": [
    "### Based on the RFE algorithm, these are the important variables we should keep for our Task 2 models. For binary variables, we will utilize the _0 suffix for easier interpretation.\n",
    "- ac_proxm_0\n",
    "- arstmade_0\n",
    "- crimsusp_2\n",
    "- crimsusp_5\n",
    "- inout_0\n",
    "- recstat_0\n",
    "- rf_attir_0\n",
    "- sex_1\n",
    "- city_1\n",
    "- pct_1"
   ]
  },
  {
   "cell_type": "code",
   "execution_count": 20,
   "metadata": {},
   "outputs": [],
   "source": [
    "## According to recursive feature elimination, these are the 10 best predictor variables, so let's put assign them\n",
    "## to rfe_cols as our final variables.\n",
    "\n",
    "t2_rfe_cols = ['ac_proxm_0', 'arstmade_0', 'crimsusp_2', 'crimsusp_5','inout_0', 'recstat_0', 'rf_attir_0', 'sex_1', 'city_1','pct_1'\n",
    "           ]"
   ]
  },
  {
   "cell_type": "markdown",
   "metadata": {},
   "source": [
    "# Modeling and Evaluation"
   ]
  },
  {
   "cell_type": "markdown",
   "metadata": {},
   "source": [
    "We have selected F-measure to evaluate our different models. We are predicting whether or not a person will be frisked and also arrested in New York City in 2013. There did not seem to be a significant difference to preventing false positives (precision) or preventing false negatives (recall) and so we decided to use F-measure. F-measure combines both precision and recall and we believe that this holistic approach will better evaluate our different models."
   ]
  },
  {
   "cell_type": "markdown",
   "metadata": {},
   "source": [
    "## Task 1: Predicting whether an arrest was made for a search incident"
   ]
  },
  {
   "cell_type": "code",
   "execution_count": 20,
   "metadata": {},
   "outputs": [],
   "source": [
    "## Assign new X and y values\n",
    "task1_X = os_data_X[t1_rfe_cols]\n",
    "task1_y = os_data_y['arstmade_0']"
   ]
  },
  {
   "cell_type": "markdown",
   "metadata": {},
   "source": [
    "### Task 1, Model 1 (Logistic Regression):"
   ]
  },
  {
   "cell_type": "code",
   "execution_count": 21,
   "metadata": {},
   "outputs": [
    {
     "data": {
      "text/plain": [
       "LogisticRegression(C=1.0, class_weight=None, dual=False, fit_intercept=True,\n",
       "                   intercept_scaling=1, l1_ratio=None, max_iter=100,\n",
       "                   multi_class='warn', n_jobs=None, penalty='l2',\n",
       "                   random_state=None, solver='lbfgs', tol=0.0001, verbose=0,\n",
       "                   warm_start=False)"
      ]
     },
     "execution_count": 21,
     "metadata": {},
     "output_type": "execute_result"
    }
   ],
   "source": [
    "from sklearn.linear_model import LogisticRegression\n",
    "from sklearn import metrics\n",
    "\n",
    "# Per the Rubric instructions, we will utilize a 80/20 split for our training/test data\n",
    "t1m1_X_train, t1m1_X_test, t1m1_y_train, t1m1_y_test = train_test_split(task1_X, task1_y, test_size=0.2, random_state=0) \n",
    "\n",
    "logreg = LogisticRegression(solver='lbfgs')\n",
    "logreg.fit(t1m1_X_train, t1m1_y_train)"
   ]
  },
  {
   "cell_type": "markdown",
   "metadata": {},
   "source": [
    "##### Predict + Accuracy Score"
   ]
  },
  {
   "cell_type": "code",
   "execution_count": 22,
   "metadata": {},
   "outputs": [
    {
     "name": "stdout",
     "output_type": "stream",
     "text": [
      "Accuracy of logistic regression classifier on test set: 0.8294054582729888\n"
     ]
    }
   ],
   "source": [
    "t1m1_y_pred = logreg.predict(t1m1_X_test)\n",
    "print('Accuracy of logistic regression classifier on test set:', logreg.score(t1m1_X_test, t1m1_y_test))"
   ]
  },
  {
   "cell_type": "markdown",
   "metadata": {},
   "source": [
    "##### Confusion Matrix"
   ]
  },
  {
   "cell_type": "code",
   "execution_count": 23,
   "metadata": {},
   "outputs": [
    {
     "name": "stdout",
     "output_type": "stream",
     "text": [
      "[[25096  1662]\n",
      " [ 7408 19001]]\n"
     ]
    }
   ],
   "source": [
    "from sklearn.metrics import confusion_matrix\n",
    "confusion_matrix = confusion_matrix(t1m1_y_test, t1m1_y_pred)\n",
    "print(confusion_matrix)"
   ]
  },
  {
   "cell_type": "markdown",
   "metadata": {},
   "source": [
    "##### Precision + Recall"
   ]
  },
  {
   "cell_type": "code",
   "execution_count": 24,
   "metadata": {},
   "outputs": [
    {
     "name": "stdout",
     "output_type": "stream",
     "text": [
      "              precision    recall  f1-score   support\n",
      "\n",
      "           0       0.77      0.94      0.85     26758\n",
      "           1       0.92      0.72      0.81     26409\n",
      "\n",
      "    accuracy                           0.83     53167\n",
      "   macro avg       0.85      0.83      0.83     53167\n",
      "weighted avg       0.85      0.83      0.83     53167\n",
      "\n"
     ]
    }
   ],
   "source": [
    "from sklearn.metrics import classification_report\n",
    "print(classification_report(t1m1_y_test, t1m1_y_pred))"
   ]
  },
  {
   "cell_type": "code",
   "execution_count": 25,
   "metadata": {},
   "outputs": [
    {
     "data": {
      "image/png": "[encoded data removed]",
      "text/plain": [
       "<Figure size 432x288 with 1 Axes>"
      ]
     },
     "metadata": {},
     "output_type": "display_data"
    }
   ],
   "source": [
    "## ROC Curve + AUC Score (Task 1, Model 1)\n",
    "\n",
    "t1m1_y_pred_proba = logreg.predict_proba(t1m1_X_test)[::,1]\n",
    "fpr, tpr, _ = metrics.roc_curve(t1m1_y_test,  t1m1_y_pred_proba)\n",
    "auc = metrics.roc_auc_score(t1m1_y_test, t1m1_y_pred_proba)\n",
    "plt.plot(fpr,tpr,label=\"data 1, auc=\"+str(auc))\n",
    "plt.legend(loc=4)\n",
    "plt.show() ## https://www.datacamp.com/community/tutorials/understanding-logistic-regression-python"
   ]
  },
  {
   "cell_type": "markdown",
   "metadata": {},
   "source": [
    "### AUC Explanation:\n",
    "Measuring performance is an essential task when it comes to data mining, so let's try to better understand what an AUC score of 0.88 means! According to (https://towardsdatascience.com/understanding-auc-roc-curve-68b2303cc9c5), an AUC score of 0 constitutes to a horrible model, a 0.5 score means our model does not do a good job of separating classes. The goal is to have our model produce an AUC score above 0.5 and 1, and that is exactly what we accomplish here. With an AUC score of 0.88, we produced a formidable Logistic Regression model. "
   ]
  },
  {
   "cell_type": "markdown",
   "metadata": {},
   "source": [
    "### Task 1, Model 2 (Random Forest)"
   ]
  },
  {
   "cell_type": "code",
   "execution_count": 26,
   "metadata": {},
   "outputs": [
    {
     "name": "stderr",
     "output_type": "stream",
     "text": [
      "[Parallel(n_jobs=-1)]: Using backend ThreadingBackend with 4 concurrent workers.\n",
      "[Parallel(n_jobs=-1)]: Done  42 tasks      | elapsed:    3.0s\n",
      "[Parallel(n_jobs=-1)]: Done 100 out of 100 | elapsed:    6.7s finished\n"
     ]
    },
    {
     "data": {
      "text/plain": [
       "RandomForestClassifier(bootstrap=True, class_weight=None, criterion='gini',\n",
       "            max_depth=None, max_features='sqrt', max_leaf_nodes=None,\n",
       "            min_impurity_decrease=0.0, min_impurity_split=None,\n",
       "            min_samples_leaf=1, min_samples_split=2,\n",
       "            min_weight_fraction_leaf=0.0, n_estimators=100, n_jobs=-1,\n",
       "            oob_score=False, random_state=50, verbose=1, warm_start=False)"
      ]
     },
     "execution_count": 26,
     "metadata": {},
     "output_type": "execute_result"
    }
   ],
   "source": [
    "from sklearn.tree import DecisionTreeClassifier\n",
    "RSEED = 50\n",
    "\n",
    "t1m2_X_train, t1m2_X_test, t1m2_y_train, t1m2_y_test = train_test_split(task1_X, task1_y, test_size=0.2, random_state=0) \n",
    "\n",
    "# Create the model with 100 trees\n",
    "rf = RandomForestClassifier(n_estimators=100, \n",
    "                               random_state=RSEED, \n",
    "                               max_features = 'sqrt',\n",
    "                               n_jobs=-1, verbose = 1)\n",
    "\n",
    "# Fit on training data\n",
    "rf.fit(t1m2_X_train, t1m2_y_train)"
   ]
  },
  {
   "cell_type": "markdown",
   "metadata": {},
   "source": [
    "### Let's see how many nodes there are for each tree on average and the maximum depth of each tree. There were 100 trees in the forest."
   ]
  },
  {
   "cell_type": "code",
   "execution_count": 27,
   "metadata": {},
   "outputs": [
    {
     "name": "stdout",
     "output_type": "stream",
     "text": [
      "Average number of nodes 395\n",
      "Average maximum depth 9\n"
     ]
    }
   ],
   "source": [
    "n_nodes = []\n",
    "max_depths = []\n",
    "\n",
    "for ind_tree in rf.estimators_:\n",
    "    n_nodes.append(ind_tree.tree_.node_count)\n",
    "    max_depths.append(ind_tree.tree_.max_depth)\n",
    "    \n",
    "print(f'Average number of nodes {int(np.mean(n_nodes))}')\n",
    "print(f'Average maximum depth {int(np.mean(max_depths))}')"
   ]
  },
  {
   "cell_type": "markdown",
   "metadata": {},
   "source": [
    "We see that each decision tree in the forest has many nodes and isn't too deep. However, even though each individual decision tree may overfit to a particular subset of the training data, the idea is that the overall random forest should have a reduced variance."
   ]
  },
  {
   "cell_type": "markdown",
   "metadata": {},
   "source": [
    "#### Random Forest Results"
   ]
  },
  {
   "cell_type": "code",
   "execution_count": 28,
   "metadata": {},
   "outputs": [
    {
     "name": "stderr",
     "output_type": "stream",
     "text": [
      "[Parallel(n_jobs=4)]: Using backend ThreadingBackend with 4 concurrent workers.\n",
      "[Parallel(n_jobs=4)]: Done  42 tasks      | elapsed:    0.5s\n",
      "[Parallel(n_jobs=4)]: Done 100 out of 100 | elapsed:    1.2s finished\n",
      "[Parallel(n_jobs=4)]: Using backend ThreadingBackend with 4 concurrent workers.\n",
      "[Parallel(n_jobs=4)]: Done  42 tasks      | elapsed:    0.5s\n",
      "[Parallel(n_jobs=4)]: Done 100 out of 100 | elapsed:    1.2s finished\n",
      "[Parallel(n_jobs=4)]: Using backend ThreadingBackend with 4 concurrent workers.\n",
      "[Parallel(n_jobs=4)]: Done  42 tasks      | elapsed:    0.0s\n",
      "[Parallel(n_jobs=4)]: Done 100 out of 100 | elapsed:    0.2s finished\n",
      "[Parallel(n_jobs=4)]: Using backend ThreadingBackend with 4 concurrent workers.\n",
      "[Parallel(n_jobs=4)]: Done  42 tasks      | elapsed:    0.0s\n",
      "[Parallel(n_jobs=4)]: Done 100 out of 100 | elapsed:    0.2s finished\n"
     ]
    }
   ],
   "source": [
    "train_rf_predictions = rf.predict(t1m2_X_train)\n",
    "train_rf_probs = rf.predict_proba(t1m2_X_train)[:, 1]\n",
    "\n",
    "rf_predictions = rf.predict(t1m2_X_test) # Actual class predictions\n",
    "rf_probs = rf.predict_proba(t1m2_X_test)[:, 1] # Probabilities for each class"
   ]
  },
  {
   "cell_type": "code",
   "execution_count": 29,
   "metadata": {},
   "outputs": [
    {
     "name": "stderr",
     "output_type": "stream",
     "text": [
      "[Parallel(n_jobs=4)]: Using backend ThreadingBackend with 4 concurrent workers.\n",
      "[Parallel(n_jobs=4)]: Done  42 tasks      | elapsed:    0.0s\n"
     ]
    },
    {
     "name": "stdout",
     "output_type": "stream",
     "text": [
      "Accuracy of random forest classifier on test set: 0.7758763351888069\n",
      "              precision    recall  f1-score   support\n",
      "\n",
      "           0       0.81      0.72      0.76     26495\n",
      "           1       0.75      0.83      0.79     26681\n",
      "\n",
      "   micro avg       0.78      0.78      0.78     53176\n",
      "   macro avg       0.78      0.78      0.78     53176\n",
      "weighted avg       0.78      0.78      0.78     53176\n",
      "\n"
     ]
    },
    {
     "name": "stderr",
     "output_type": "stream",
     "text": [
      "[Parallel(n_jobs=4)]: Done 100 out of 100 | elapsed:    0.2s finished\n"
     ]
    }
   ],
   "source": [
    "#Evaluate Random Forest Model Precision and Recall\n",
    "from sklearn.metrics import classification_report\n",
    "\n",
    "print('Accuracy of random forest classifier on test set:', rf.score(t1m2_X_test, t1m2_y_test))\n",
    "print(classification_report(t1m2_y_test, rf_predictions))"
   ]
  },
  {
   "cell_type": "code",
   "execution_count": 30,
   "metadata": {},
   "outputs": [
    {
     "name": "stdout",
     "output_type": "stream",
     "text": [
      "[[19128  7367]\n",
      " [ 4551 22130]]\n"
     ]
    }
   ],
   "source": [
    "#Confusion Matrix\n",
    "from sklearn.metrics import confusion_matrix\n",
    "RF_cm = confusion_matrix(t1m2_y_test, rf_predictions)\n",
    "print(RF_cm)"
   ]
  },
  {
   "cell_type": "code",
   "execution_count": 31,
   "metadata": {},
   "outputs": [
    {
     "name": "stdout",
     "output_type": "stream",
     "text": [
      "Receiver Operating Characteristic Area Under the Curve: 0.8582304844699475\n"
     ]
    }
   ],
   "source": [
    "from sklearn.metrics import roc_auc_score\n",
    "# Calculate roc auc\n",
    "roc_value = roc_auc_score(t1m2_y_test, rf_probs)\n",
    "print('Receiver Operating Characteristic Area Under the Curve:', roc_value)"
   ]
  },
  {
   "cell_type": "code",
   "execution_count": 32,
   "metadata": {},
   "outputs": [
    {
     "data": {
      "image/png": "[encoded data removed]",
      "text/plain": [
       "<Figure size 576x432 with 1 Axes>"
      ]
     },
     "metadata": {
      "needs_background": "light"
     },
     "output_type": "display_data"
    }
   ],
   "source": [
    "#Visualize ROC Curve for Task 1, Random Forest Model\n",
    "# Calculate false positive rates and true positive rates\n",
    "from sklearn.metrics import precision_score, recall_score, roc_auc_score, roc_curve\n",
    "base_fpr, base_tpr, _ = roc_curve(t1m2_y_test, [1 for _ in range(len(t1m2_y_test))])\n",
    "model_fpr, model_tpr, _ = roc_curve(t1m2_y_test, rf_probs)\n",
    "\n",
    "plt.figure(figsize = (8, 6))\n",
    "plt.rcParams['font.size'] = 16\n",
    "    \n",
    "# Plot both curves\n",
    "plt.plot(base_fpr, base_tpr, 'b', label = 'baseline')\n",
    "plt.plot(model_fpr, model_tpr, 'r', label = 'model')\n",
    "plt.legend();\n",
    "plt.xlabel('False Positive Rate'); plt.ylabel('True Positive Rate'); plt.title('ROC Curves');"
   ]
  },
  {
   "cell_type": "markdown",
   "metadata": {},
   "source": [
    "### Feature Importance\n",
    "\n",
    "The feature importances in a random forest indicate the sum of the reduction in Gini Impurity over all the nodes that are split on that feature. We can use these to try and figure out what predictor variables the random forest considers most important. The feature importances can be extracted from a trained random forest and put into a Pandas dataframe as follows:"
   ]
  },
  {
   "cell_type": "code",
   "execution_count": 33,
   "metadata": {},
   "outputs": [
    {
     "data": {
      "text/html": [
       "<div>\n",
       "<style scoped>\n",
       "    .dataframe tbody tr th:only-of-type {\n",
       "        vertical-align: middle;\n",
       "    }\n",
       "\n",
       "    .dataframe tbody tr th {\n",
       "        vertical-align: top;\n",
       "    }\n",
       "\n",
       "    .dataframe thead th {\n",
       "        text-align: right;\n",
       "    }\n",
       "</style>\n",
       "<table border=\"1\" class=\"dataframe\">\n",
       "  <thead>\n",
       "    <tr style=\"text-align: right;\">\n",
       "      <th></th>\n",
       "      <th>feature</th>\n",
       "      <th>importance</th>\n",
       "    </tr>\n",
       "  </thead>\n",
       "  <tbody>\n",
       "    <tr>\n",
       "      <th>3</th>\n",
       "      <td>frisked_0</td>\n",
       "      <td>0.358609</td>\n",
       "    </tr>\n",
       "    <tr>\n",
       "      <th>7</th>\n",
       "      <td>searched_0</td>\n",
       "      <td>0.317755</td>\n",
       "    </tr>\n",
       "    <tr>\n",
       "      <th>4</th>\n",
       "      <td>inout_0</td>\n",
       "      <td>0.158604</td>\n",
       "    </tr>\n",
       "    <tr>\n",
       "      <th>5</th>\n",
       "      <td>offunif_0</td>\n",
       "      <td>0.113469</td>\n",
       "    </tr>\n",
       "    <tr>\n",
       "      <th>1</th>\n",
       "      <td>crimsusp_5</td>\n",
       "      <td>0.021904</td>\n",
       "    </tr>\n",
       "  </tbody>\n",
       "</table>\n",
       "</div>"
      ],
      "text/plain": [
       "      feature  importance\n",
       "3   frisked_0    0.358609\n",
       "7  searched_0    0.317755\n",
       "4     inout_0    0.158604\n",
       "5   offunif_0    0.113469\n",
       "1  crimsusp_5    0.021904"
      ]
     },
     "execution_count": 33,
     "metadata": {},
     "output_type": "execute_result"
    }
   ],
   "source": [
    "#Feature importance on Task1 (arrest)\n",
    "import pandas as pd\n",
    "\n",
    "# Extract feature importances\n",
    "fi = pd.DataFrame({'feature': list(t1m2_X_train.columns),\n",
    "                   'importance': rf.feature_importances_}).\\\n",
    "                    sort_values('importance', ascending = False)\n",
    "\n",
    "# Display\n",
    "fi.head()"
   ]
  },
  {
   "cell_type": "code",
   "execution_count": 34,
   "metadata": {},
   "outputs": [
    {
     "data": {
      "image/png": "[encoded data removed]",
      "text/plain": [
       "<Figure size 576x396 with 1 Axes>"
      ]
     },
     "metadata": {},
     "output_type": "display_data"
    }
   ],
   "source": [
    "import matplotlib.pyplot as plt\n",
    "\n",
    "from sklearn.ensemble import GradientBoostingClassifier\n",
    "\n",
    "from yellowbrick.features.importances import FeatureImportances\n",
    "\n",
    "# Create a new matplotlib figure\n",
    "fig = plt.figure()\n",
    "ax = fig.add_subplot()\n",
    "\n",
    "viz = FeatureImportances(GradientBoostingClassifier(), ax=ax)\n",
    "viz.fit(t1m2_X_train, t1m2_y_train)\n",
    "viz.poof()"
   ]
  },
  {
   "cell_type": "markdown",
   "metadata": {},
   "source": [
    "Feature importances can give us insight into a problem by telling us what variables are the most discerning between classes. For example, here frisked_0, indicating a frisked subject, is the most important feature which makes sense in the problem context."
   ]
  },
  {
   "cell_type": "markdown",
   "metadata": {},
   "source": [
    "### Random Forest Optimization through Random Search"
   ]
  },
  {
   "cell_type": "markdown",
   "metadata": {},
   "source": [
    "In order to maximize the performance of the random forest, we can perform a random search for better hyperparameters. This will randomly select combinations of hyperparameters from a grid, evaluate them using cross validation on the training data, and return the values that perform the best."
   ]
  },
  {
   "cell_type": "code",
   "execution_count": 35,
   "metadata": {},
   "outputs": [
    {
     "name": "stdout",
     "output_type": "stream",
     "text": [
      "Fitting 3 folds for each of 10 candidates, totalling 30 fits\n"
     ]
    },
    {
     "name": "stderr",
     "output_type": "stream",
     "text": [
      "[Parallel(n_jobs=-1)]: Using backend LokyBackend with 4 concurrent workers.\n",
      "[Parallel(n_jobs=-1)]: Done  30 out of  30 | elapsed:  3.6min finished\n"
     ]
    },
    {
     "data": {
      "text/plain": [
       "RandomizedSearchCV(cv=3, error_score='raise-deprecating',\n",
       "          estimator=RandomForestClassifier(bootstrap=True, class_weight=None, criterion='gini',\n",
       "            max_depth=None, max_features='auto', max_leaf_nodes=None,\n",
       "            min_impurity_decrease=0.0, min_impurity_split=None,\n",
       "            min_samples_leaf=1, min_samples_split=2,\n",
       "            min_weight_fraction_leaf=0.0, n_estimators='warn', n_jobs=None,\n",
       "            oob_score=False, random_state=50, verbose=0, warm_start=False),\n",
       "          fit_params=None, iid='warn', n_iter=10, n_jobs=-1,\n",
       "          param_distributions={'n_estimators': array([ 10,  13,  17,  21,  25,  29,  33,  37,  41,  44,  48,  52,  56,\n",
       "        60,  64,  68,  72,  75,  79,  83,  87,  91,  95,  99, 103, 106,\n",
       "       110, 114, 118, 122, 126, 130, 134, 137, 141, 145, 149, 153, 157,\n",
       "       161, 165, 168, 172, 176, 180, 184, 188, ...9, 49, 49, 49, 49, 49, 49, 49, 49, 50], 'min_samples_split': [2, 5, 10], 'bootstrap': [True, False]},\n",
       "          pre_dispatch='2*n_jobs', random_state=50, refit=True,\n",
       "          return_train_score='warn', scoring='roc_auc', verbose=1)"
      ]
     },
     "execution_count": 35,
     "metadata": {},
     "output_type": "execute_result"
    }
   ],
   "source": [
    "from sklearn.model_selection import RandomizedSearchCV\n",
    "RSEED = 50\n",
    "\n",
    "rs_t1m2_X_train, rs_t1m2_X_test, rs_t1m2_y_train, rs_t1m2_y_test = train_test_split(task1_X, task1_y, test_size=0.2, random_state=0)\n",
    "\n",
    "# Hyperparameter grid\n",
    "param_grid = {\n",
    "    'n_estimators': np.linspace(10, 200).astype(int),\n",
    "    'max_depth': [None] + list(np.linspace(3, 20).astype(int)),\n",
    "    'max_features': ['auto', 'sqrt', None] + list(np.arange(0.5, 1, 0.1)),\n",
    "    'max_leaf_nodes': [None] + list(np.linspace(10, 50, 500).astype(int)),\n",
    "    'min_samples_split': [2, 5, 10],\n",
    "    'bootstrap': [True, False]\n",
    "}\n",
    "\n",
    "# Estimator for use in random search\n",
    "estimator = RandomForestClassifier(random_state = RSEED)\n",
    "\n",
    "# Create the random search model\n",
    "rs = RandomizedSearchCV(estimator, param_grid, n_jobs = -1, \n",
    "                        scoring = 'f1', cv = 3, \n",
    "                        n_iter = 10, verbose = 1, random_state=RSEED)\n",
    "\n",
    "# Fit \n",
    "rs.fit(rs_t1m2_X_train, rs_t1m2_y_train)"
   ]
  },
  {
   "cell_type": "code",
   "execution_count": 36,
   "metadata": {},
   "outputs": [
    {
     "data": {
      "text/plain": [
       "{'n_estimators': 184,\n",
       " 'min_samples_split': 2,\n",
       " 'max_leaf_nodes': 40,\n",
       " 'max_features': 0.7999999999999999,\n",
       " 'max_depth': 14,\n",
       " 'bootstrap': False}"
      ]
     },
     "execution_count": 36,
     "metadata": {},
     "output_type": "execute_result"
    }
   ],
   "source": [
    "rs.best_params_"
   ]
  },
  {
   "cell_type": "markdown",
   "metadata": {},
   "source": [
    "We can see that the best hyperparameter values are not the defaults. This shows the importance of tuning a model for a specific dataset. Each dataset will have different characteristics, and the model that does best on one dataset will not necessarily do the best across all datasets."
   ]
  },
  {
   "cell_type": "markdown",
   "metadata": {},
   "source": [
    "### Task 1, Model 2 using optimized Random Forest parameters"
   ]
  },
  {
   "cell_type": "code",
   "execution_count": 37,
   "metadata": {},
   "outputs": [],
   "source": [
    "best_model = rs.best_estimator_"
   ]
  },
  {
   "cell_type": "code",
   "execution_count": 38,
   "metadata": {},
   "outputs": [],
   "source": [
    "train_rf_predictions_rs = best_model.predict(rs_t1m2_X_train)\n",
    "train_rf_probs_rs = best_model.predict_proba(rs_t1m2_X_train)[:, 1]\n",
    "\n",
    "rf_predictions_rs = best_model.predict(rs_t1m2_X_test)\n",
    "rf_probs_rs = best_model.predict_proba(rs_t1m2_X_test)[:, 1]"
   ]
  },
  {
   "cell_type": "code",
   "execution_count": 39,
   "metadata": {},
   "outputs": [
    {
     "name": "stdout",
     "output_type": "stream",
     "text": [
      "Average number of nodes 79\n",
      "Average maximum depth 8\n"
     ]
    }
   ],
   "source": [
    "n_nodes = []\n",
    "max_depths = []\n",
    "\n",
    "for ind_tree in best_model.estimators_:\n",
    "    n_nodes.append(ind_tree.tree_.node_count)\n",
    "    max_depths.append(ind_tree.tree_.max_depth)\n",
    "    \n",
    "print(f'Average number of nodes {int(np.mean(n_nodes))}')\n",
    "print(f'Average maximum depth {int(np.mean(max_depths))}')"
   ]
  },
  {
   "cell_type": "code",
   "execution_count": 40,
   "metadata": {},
   "outputs": [
    {
     "name": "stdout",
     "output_type": "stream",
     "text": [
      "Accuracy of random forest classifier on test set: 0.7759515570934256\n",
      "              precision    recall  f1-score   support\n",
      "\n",
      "           0       0.81      0.72      0.76     26495\n",
      "           1       0.75      0.83      0.79     26681\n",
      "\n",
      "   micro avg       0.78      0.78      0.78     53176\n",
      "   macro avg       0.78      0.78      0.78     53176\n",
      "weighted avg       0.78      0.78      0.78     53176\n",
      "\n"
     ]
    }
   ],
   "source": [
    "#Evaluate Random Forest Model Precision and Recall using optimized RF settings\n",
    "from sklearn.metrics import classification_report\n",
    "\n",
    "print('Accuracy of random forest classifier on test set:', best_model.score(rs_t1m2_X_test, rs_t1m2_y_test))\n",
    "print(classification_report(rs_t1m2_y_test, rf_predictions_rs))"
   ]
  },
  {
   "cell_type": "code",
   "execution_count": 41,
   "metadata": {},
   "outputs": [
    {
     "name": "stdout",
     "output_type": "stream",
     "text": [
      "[[19111  7384]\n",
      " [ 4530 22151]]\n"
     ]
    }
   ],
   "source": [
    "#Confusion Matrix using optimized RF settings\n",
    "from sklearn.metrics import confusion_matrix\n",
    "RF_cm = confusion_matrix(rs_t1m2_y_test, rf_predictions_rs)\n",
    "print(RF_cm)"
   ]
  },
  {
   "cell_type": "code",
   "execution_count": 42,
   "metadata": {},
   "outputs": [
    {
     "name": "stdout",
     "output_type": "stream",
     "text": [
      "Receiver Operating Characteristic Area Under the Curve: 0.8577849877006453\n"
     ]
    }
   ],
   "source": [
    "from sklearn.metrics import roc_auc_score\n",
    "# Calculate roc auc using optimized RF settings\n",
    "roc_value = roc_auc_score(rs_t1m2_y_test, rf_probs_rs)\n",
    "print('Receiver Operating Characteristic Area Under the Curve:', roc_value)"
   ]
  },
  {
   "cell_type": "markdown",
   "metadata": {},
   "source": [
    "While our accuracy and ROC/AUC didn't show much improvement using optimized random forest parameters, we were still able to improve the cross validation of the model performance by determining the best RF settings, and improve overall accuracy by 1% over the logistic regression model. The max depth is lessened, and we decreased the number of nodes by 90%!"
   ]
  },
  {
   "cell_type": "markdown",
   "metadata": {},
   "source": [
    "### Task 1, Model 3 (KNN)"
   ]
  },
  {
   "cell_type": "code",
   "execution_count": 44,
   "metadata": {},
   "outputs": [],
   "source": [
    "#THIS CELL IS JUST SETTING SOME OF THE X/Y TRAIN/TEST SPLITS TO NEW DATA FRAMES\n",
    "knn1_X_train = t1m1_X_train\n",
    "knn1_y_train = t1m1_y_train\n",
    "knn1_X_test = t1m1_X_test\n",
    "knn1_y_test = t1m1_y_test"
   ]
  },
  {
   "cell_type": "markdown",
   "metadata": {},
   "source": [
    "Here we begin running the first of two KNN models to predict the probability of arrest.\n",
    "It is possible to use a grid search technique with the KNN model to define the distance metric, leaf size, weights, number of N, etc.. However for the sake of computing power and time, we will simply be modifying the number of neighbors used. Using the mean error for various K below we are able to see at which point the error decreases enough to be optimal without using too many neighbors.\n",
    "\n",
    "We settled on 9 neighbors for this first model as it provided a balance between time to process and performance. The distance metric and others were left as is as it already took about 1.5 hours to determine the optimal amount of error.\n",
    "\n",
    "#### The performance of this model was acceptable and in-line with previous models. A weighted average f1 score of .77 is comparable with .77 (Logreg), and .82 (RF).\n",
    "\n",
    "#### The model performance on the test set was relatively similar to that on the train set showing that there is minimal overfitting. "
   ]
  },
  {
   "cell_type": "code",
   "execution_count": 45,
   "metadata": {},
   "outputs": [
    {
     "data": {
      "text/plain": [
       "KNeighborsClassifier(algorithm='auto', leaf_size=30, metric='minkowski',\n",
       "           metric_params=None, n_jobs=None, n_neighbors=9, p=2,\n",
       "           weights='uniform')"
      ]
     },
     "execution_count": 45,
     "metadata": {},
     "output_type": "execute_result"
    }
   ],
   "source": [
    "from sklearn.neighbors import KNeighborsClassifier  \n",
    "classifier = KNeighborsClassifier(n_neighbors=9)  \n",
    "classifier.fit(knn1_X_train, knn1_y_train)  "
   ]
  },
  {
   "cell_type": "code",
   "execution_count": 46,
   "metadata": {},
   "outputs": [],
   "source": [
    "knn1_y_pred = classifier.predict(knn1_X_test)"
   ]
  },
  {
   "cell_type": "code",
   "execution_count": 47,
   "metadata": {},
   "outputs": [
    {
     "name": "stdout",
     "output_type": "stream",
     "text": [
      "[[21097  5398]\n",
      " [ 6905 19776]]\n",
      "              precision    recall  f1-score   support\n",
      "\n",
      "           0       0.75      0.80      0.77     26495\n",
      "           1       0.79      0.74      0.76     26681\n",
      "\n",
      "   micro avg       0.77      0.77      0.77     53176\n",
      "   macro avg       0.77      0.77      0.77     53176\n",
      "weighted avg       0.77      0.77      0.77     53176\n",
      "\n"
     ]
    }
   ],
   "source": [
    "from sklearn.metrics import classification_report, confusion_matrix  \n",
    "print(confusion_matrix(knn1_y_test,knn1_y_pred))  \n",
    "print(classification_report(knn1_y_test,knn1_y_pred))"
   ]
  },
  {
   "cell_type": "code",
   "execution_count": null,
   "metadata": {},
   "outputs": [],
   "source": [
    "#WARNING THIS WILL TAKE FOREVER TO RUN\n",
    "\n",
    "error = []\n",
    "\n",
    "for i in range(1, 40):  \n",
    "    knn = KNeighborsClassifier(n_neighbors=i)\n",
    "    knn.fit(knn1_X_train, knn1_y_train)\n",
    "    pred_i = knn.predict(knn1_X_test)\n",
    "    error.append(np.mean(pred_i != knn1_y_test))"
   ]
  },
  {
   "cell_type": "code",
   "execution_count": null,
   "metadata": {},
   "outputs": [],
   "source": [
    "#THIS PLOTS WHAT IS RUN IN THE CELL ABOVE. \n",
    "\n",
    "plt.figure(figsize=(12, 6))  \n",
    "plt.plot(range(1, 40), error, color='red', linestyle='dashed', marker='o',  \n",
    "         markerfacecolor='blue', markersize=10)\n",
    "plt.title('Error Rate K Value')  \n",
    "plt.xlabel('K Value')  \n",
    "plt.ylabel('Mean Error')  "
   ]
  },
  {
   "cell_type": "markdown",
   "metadata": {},
   "source": [
    "## Task 2: Predicting whether a search resulted in an officer frisking the suspect"
   ]
  },
  {
   "cell_type": "markdown",
   "metadata": {},
   "source": [
    "### Task 2, Model 1 (Logistic Regression)"
   ]
  },
  {
   "cell_type": "code",
   "execution_count": 48,
   "metadata": {},
   "outputs": [],
   "source": [
    "## we will not need to utilize the SMOTE technique for the 'frisked' since the classes are relatively balanced\n",
    "task2_df['frisked_0'].value_counts(normalize=True)\n",
    "\n",
    "## Let's set our dependent variable for Task 2\n",
    "task2_X = task2_df[t2_rfe_cols]\n",
    "task2_y = task2_df['frisked_0']"
   ]
  },
  {
   "cell_type": "code",
   "execution_count": 49,
   "metadata": {},
   "outputs": [
    {
     "data": {
      "text/plain": [
       "LogisticRegression(C=1.0, class_weight=None, dual=False, fit_intercept=True,\n",
       "          intercept_scaling=1, max_iter=100, multi_class='warn',\n",
       "          n_jobs=None, penalty='l2', random_state=None, solver='lbfgs',\n",
       "          tol=0.0001, verbose=0, warm_start=False)"
      ]
     },
     "execution_count": 49,
     "metadata": {},
     "output_type": "execute_result"
    }
   ],
   "source": [
    "# Utilizing a 80/20 split for our training/test data\n",
    "t2m1_X_train, t2m1_X_test, t2m1_y_train, t2m1_y_test = train_test_split(task2_X, task2_y, test_size=0.2, random_state=0) \n",
    "\n",
    "logreg = LogisticRegression(solver='lbfgs')\n",
    "logreg.fit(t2m1_X_train, t2m1_y_train)"
   ]
  },
  {
   "cell_type": "markdown",
   "metadata": {},
   "source": [
    "##### Predict + Accuracy Score"
   ]
  },
  {
   "cell_type": "code",
   "execution_count": 50,
   "metadata": {},
   "outputs": [
    {
     "name": "stdout",
     "output_type": "stream",
     "text": [
      "Accuracy of logistic regression classifier on test set: 0.669646079111728\n"
     ]
    }
   ],
   "source": [
    "t2m1_y_pred = logreg.predict(t2m1_X_test)\n",
    "print('Accuracy of logistic regression classifier on test set:', logreg.score(t2m1_X_test, t2m1_y_test))"
   ]
  },
  {
   "cell_type": "markdown",
   "metadata": {},
   "source": [
    "##### Confusion Matrix"
   ]
  },
  {
   "cell_type": "code",
   "execution_count": 51,
   "metadata": {},
   "outputs": [
    {
     "name": "stdout",
     "output_type": "stream",
     "text": [
      "[[16702  4338]\n",
      " [ 7563  7422]]\n"
     ]
    }
   ],
   "source": [
    "from sklearn.metrics import confusion_matrix\n",
    "confusion_matrix = confusion_matrix(t2m1_y_test, t2m1_y_pred)\n",
    "print(confusion_matrix)"
   ]
  },
  {
   "cell_type": "markdown",
   "metadata": {},
   "source": [
    "#### Precision and Recall"
   ]
  },
  {
   "cell_type": "code",
   "execution_count": 52,
   "metadata": {},
   "outputs": [
    {
     "name": "stdout",
     "output_type": "stream",
     "text": [
      "              precision    recall  f1-score   support\n",
      "\n",
      "           0       0.69      0.79      0.74     21040\n",
      "           1       0.63      0.50      0.56     14985\n",
      "\n",
      "   micro avg       0.67      0.67      0.67     36025\n",
      "   macro avg       0.66      0.64      0.65     36025\n",
      "weighted avg       0.66      0.67      0.66     36025\n",
      "\n"
     ]
    }
   ],
   "source": [
    "from sklearn.metrics import classification_report\n",
    "print(classification_report(t2m1_y_test, t2m1_y_pred))"
   ]
  },
  {
   "cell_type": "code",
   "execution_count": 71,
   "metadata": {},
   "outputs": [
    {
     "data": {
      "image/png": "[encoded data removed]",
      "text/plain": [
       "<Figure size 576x396 with 1 Axes>"
      ]
     },
     "metadata": {},
     "output_type": "display_data"
    }
   ],
   "source": [
    "## ROC Curve + AUC Score (Task 2, Model 1)\n",
    "t2m1_y_pred_proba = logreg.predict_proba(t2m1_X_test)[::,1]\n",
    "fpr, tpr, _ = metrics.roc_curve(t2m1_y_test,  t2m1_y_pred_proba)\n",
    "auc = metrics.roc_auc_score(t2m1_y_test, t2m1_y_pred_proba)\n",
    "plt.plot(fpr,tpr,label=\"data 1, auc=\"+str(auc))\n",
    "plt.legend(loc=4)\n",
    "plt.show() ## https://www.datacamp.com/community/tutorials/understanding-logistic-regression-python"
   ]
  },
  {
   "cell_type": "markdown",
   "metadata": {},
   "source": [
    "Measuring performance is an essential task when it comes to data mining, so let's try to better understand what an AUC score of 0.73 means! According to (https://towardsdatascience.com/understanding-auc-roc-curve-68b2303cc9c5), an AUC score of 0 constitutes to a horrible model, a 0.5 score means our model does not do a good job of separating classes. The goal is to have our model produce an AUC score above 0.5 and 1, and that is exactly what we accomplish here. With an AUC score of 0.73, we produced a solid Logistic Regression model. "
   ]
  },
  {
   "cell_type": "markdown",
   "metadata": {},
   "source": [
    "### Task 2, Model 2 (Random Forest)"
   ]
  },
  {
   "cell_type": "markdown",
   "metadata": {},
   "source": [
    "### For this RF model, we will use Random Search and build upon optimized parameters."
   ]
  },
  {
   "cell_type": "code",
   "execution_count": 53,
   "metadata": {},
   "outputs": [
    {
     "name": "stdout",
     "output_type": "stream",
     "text": [
      "Fitting 3 folds for each of 10 candidates, totalling 30 fits\n"
     ]
    },
    {
     "name": "stderr",
     "output_type": "stream",
     "text": [
      "[Parallel(n_jobs=-1)]: Using backend LokyBackend with 4 concurrent workers.\n",
      "[Parallel(n_jobs=-1)]: Done  30 out of  30 | elapsed:  1.9min finished\n"
     ]
    },
    {
     "data": {
      "text/plain": [
       "RandomizedSearchCV(cv=3, error_score='raise-deprecating',\n",
       "          estimator=RandomForestClassifier(bootstrap=True, class_weight=None, criterion='gini',\n",
       "            max_depth=None, max_features='auto', max_leaf_nodes=None,\n",
       "            min_impurity_decrease=0.0, min_impurity_split=None,\n",
       "            min_samples_leaf=1, min_samples_split=2,\n",
       "            min_weight_fraction_leaf=0.0, n_estimators='warn', n_jobs=None,\n",
       "            oob_score=False, random_state=50, verbose=0, warm_start=False),\n",
       "          fit_params=None, iid='warn', n_iter=10, n_jobs=-1,\n",
       "          param_distributions={'n_estimators': array([ 10,  13,  17,  21,  25,  29,  33,  37,  41,  44,  48,  52,  56,\n",
       "        60,  64,  68,  72,  75,  79,  83,  87,  91,  95,  99, 103, 106,\n",
       "       110, 114, 118, 122, 126, 130, 134, 137, 141, 145, 149, 153, 157,\n",
       "       161, 165, 168, 172, 176, 180, 184, 188, ...9, 49, 49, 49, 49, 49, 49, 49, 49, 50], 'min_samples_split': [2, 5, 10], 'bootstrap': [True, False]},\n",
       "          pre_dispatch='2*n_jobs', random_state=50, refit=True,\n",
       "          return_train_score='warn', scoring='roc_auc', verbose=1)"
      ]
     },
     "execution_count": 53,
     "metadata": {},
     "output_type": "execute_result"
    }
   ],
   "source": [
    "from sklearn.model_selection import RandomizedSearchCV\n",
    "RSEED = 50\n",
    "\n",
    "t2m2_X_train, t2m2_X_test, t2m2_y_train, t2m2_y_test = train_test_split(task2_X, task2_y, test_size=0.2, random_state=0) \n",
    "\n",
    "# Hyperparameter grid\n",
    "param_grid = {\n",
    "    'n_estimators': np.linspace(10, 200).astype(int),\n",
    "    'max_depth': [None] + list(np.linspace(3, 20).astype(int)),\n",
    "    'max_features': ['auto', 'sqrt', None] + list(np.arange(0.5, 1, 0.1)),\n",
    "    'max_leaf_nodes': [None] + list(np.linspace(10, 50, 500).astype(int)),\n",
    "    'min_samples_split': [2, 5, 10],\n",
    "    'bootstrap': [True, False]\n",
    "}\n",
    "\n",
    "# Estimator for use in random search\n",
    "estimator = RandomForestClassifier(random_state = RSEED)\n",
    "\n",
    "# Create the random search model\n",
    "rs = RandomizedSearchCV(estimator, param_grid, n_jobs = -1, \n",
    "                        scoring = 'f1', cv = 3, \n",
    "                        n_iter = 10, verbose = 1, random_state=RSEED)\n",
    "\n",
    "# Fit\n",
    "rs.fit(t2m2_X_train, t2m2_y_train)"
   ]
  },
  {
   "cell_type": "code",
   "execution_count": 54,
   "metadata": {},
   "outputs": [],
   "source": [
    "best_model = rs.best_estimator_"
   ]
  },
  {
   "cell_type": "code",
   "execution_count": 55,
   "metadata": {},
   "outputs": [],
   "source": [
    "train_rf_predictions = best_model.predict(t2m2_X_train)\n",
    "train_rf_probs = best_model.predict_proba(t2m2_X_train)[:, 1]\n",
    "\n",
    "rf_predictions = best_model.predict(t2m2_X_test)\n",
    "rf_probs = best_model.predict_proba(t2m2_X_test)[:, 1]"
   ]
  },
  {
   "cell_type": "code",
   "execution_count": 56,
   "metadata": {},
   "outputs": [
    {
     "name": "stdout",
     "output_type": "stream",
     "text": [
      "Average number of nodes 79\n",
      "Average maximum depth 9\n"
     ]
    }
   ],
   "source": [
    "n_nodes = []\n",
    "max_depths = []\n",
    "\n",
    "for ind_tree in best_model.estimators_:\n",
    "    n_nodes.append(ind_tree.tree_.node_count)\n",
    "    max_depths.append(ind_tree.tree_.max_depth)\n",
    "    \n",
    "print(f'Average number of nodes {int(np.mean(n_nodes))}')\n",
    "print(f'Average maximum depth {int(np.mean(max_depths))}')"
   ]
  },
  {
   "cell_type": "code",
   "execution_count": 57,
   "metadata": {},
   "outputs": [
    {
     "name": "stdout",
     "output_type": "stream",
     "text": [
      "Accuracy of random forest classifier on test set: 0.6738931297709924\n",
      "              precision    recall  f1-score   support\n",
      "\n",
      "           0       0.69      0.80      0.74     21040\n",
      "           1       0.64      0.50      0.56     14985\n",
      "\n",
      "   micro avg       0.67      0.67      0.67     36025\n",
      "   macro avg       0.66      0.65      0.65     36025\n",
      "weighted avg       0.67      0.67      0.67     36025\n",
      "\n"
     ]
    }
   ],
   "source": [
    "#Evaluate Random Forest Model Precision and Recall using optimized RF settings\n",
    "from sklearn.metrics import classification_report\n",
    "\n",
    "print('Accuracy of random forest classifier on test set:', best_model.score(t2m2_X_test, t2m2_y_test))\n",
    "print(classification_report(t2m2_y_test, rf_predictions))"
   ]
  },
  {
   "cell_type": "code",
   "execution_count": 58,
   "metadata": {},
   "outputs": [
    {
     "name": "stdout",
     "output_type": "stream",
     "text": [
      "[[16820  4220]\n",
      " [ 7528  7457]]\n"
     ]
    }
   ],
   "source": [
    "#Confusion Matrix using optimized RF settings\n",
    "from sklearn.metrics import confusion_matrix\n",
    "RF_cm = confusion_matrix(t2m2_y_test, rf_predictions)\n",
    "print(RF_cm)"
   ]
  },
  {
   "cell_type": "code",
   "execution_count": 59,
   "metadata": {},
   "outputs": [
    {
     "name": "stdout",
     "output_type": "stream",
     "text": [
      "Receiver Operating Characteristic Area Under the Curve: 0.7283105253542517\n"
     ]
    }
   ],
   "source": [
    "from sklearn.metrics import roc_auc_score\n",
    "# Calculate roc auc using optimized RF settings\n",
    "roc_value = roc_auc_score(t2m1_y_test, rf_probs)\n",
    "print('Receiver Operating Characteristic Area Under the Curve:', roc_value)"
   ]
  },
  {
   "cell_type": "code",
   "execution_count": 60,
   "metadata": {},
   "outputs": [
    {
     "data": {
      "image/png": "[encoded data removed]",
      "text/plain": [
       "<Figure size 576x432 with 1 Axes>"
      ]
     },
     "metadata": {},
     "output_type": "display_data"
    }
   ],
   "source": [
    "#Visualize ROC Curve for Task 2, Random Forest Model\n",
    "# Calculate false positive rates and true positive rates\n",
    "from sklearn.metrics import precision_score, recall_score, roc_auc_score, roc_curve\n",
    "base_fpr, base_tpr, _ = roc_curve(t2m2_y_test, [1 for _ in range(len(t2m2_y_test))])\n",
    "model_fpr, model_tpr, _ = roc_curve(t2m2_y_test, rf_probs)\n",
    "\n",
    "plt.figure(figsize = (8, 6))\n",
    "plt.rcParams['font.size'] = 16\n",
    "    \n",
    "# Plot both curves\n",
    "plt.plot(base_fpr, base_tpr, 'b', label = 'baseline')\n",
    "plt.plot(model_fpr, model_tpr, 'r', label = 'model')\n",
    "plt.legend();\n",
    "plt.xlabel('False Positive Rate'); plt.ylabel('True Positive Rate'); plt.title('ROC Curves');"
   ]
  },
  {
   "cell_type": "markdown",
   "metadata": {},
   "source": [
    "#### The F1-Score of the Random Forest (using random state) came in at .67, just slightly higher than the logistic regression model using random forest of 0.66."
   ]
  },
  {
   "cell_type": "markdown",
   "metadata": {},
   "source": [
    "#### Feature Importance"
   ]
  },
  {
   "cell_type": "code",
   "execution_count": 61,
   "metadata": {},
   "outputs": [
    {
     "data": {
      "text/html": [
       "<div>\n",
       "<style scoped>\n",
       "    .dataframe tbody tr th:only-of-type {\n",
       "        vertical-align: middle;\n",
       "    }\n",
       "\n",
       "    .dataframe tbody tr th {\n",
       "        vertical-align: top;\n",
       "    }\n",
       "\n",
       "    .dataframe thead th {\n",
       "        text-align: right;\n",
       "    }\n",
       "</style>\n",
       "<table border=\"1\" class=\"dataframe\">\n",
       "  <thead>\n",
       "    <tr style=\"text-align: right;\">\n",
       "      <th></th>\n",
       "      <th>feature</th>\n",
       "      <th>importance</th>\n",
       "    </tr>\n",
       "  </thead>\n",
       "  <tbody>\n",
       "    <tr>\n",
       "      <th>6</th>\n",
       "      <td>rf_attir_0</td>\n",
       "      <td>0.367269</td>\n",
       "    </tr>\n",
       "    <tr>\n",
       "      <th>3</th>\n",
       "      <td>crimsusp_5</td>\n",
       "      <td>0.181253</td>\n",
       "    </tr>\n",
       "    <tr>\n",
       "      <th>1</th>\n",
       "      <td>arstmade_0</td>\n",
       "      <td>0.152607</td>\n",
       "    </tr>\n",
       "    <tr>\n",
       "      <th>4</th>\n",
       "      <td>inout_0</td>\n",
       "      <td>0.141266</td>\n",
       "    </tr>\n",
       "    <tr>\n",
       "      <th>7</th>\n",
       "      <td>sex_1</td>\n",
       "      <td>0.089416</td>\n",
       "    </tr>\n",
       "  </tbody>\n",
       "</table>\n",
       "</div>"
      ],
      "text/plain": [
       "      feature  importance\n",
       "6  rf_attir_0    0.367269\n",
       "3  crimsusp_5    0.181253\n",
       "1  arstmade_0    0.152607\n",
       "4     inout_0    0.141266\n",
       "7       sex_1    0.089416"
      ]
     },
     "execution_count": 61,
     "metadata": {},
     "output_type": "execute_result"
    }
   ],
   "source": [
    "#Feature Importance on Task 2 (frisked)\n",
    "import pandas as pd\n",
    "\n",
    "# Extract feature importances\n",
    "fi = pd.DataFrame({'feature': list(t2m2_X_train.columns),\n",
    "                   'importance': best_model.feature_importances_}).\\\n",
    "                    sort_values('importance', ascending = False)\n",
    "\n",
    "# Display\n",
    "fi.head()"
   ]
  },
  {
   "cell_type": "code",
   "execution_count": 182,
   "metadata": {},
   "outputs": [
    {
     "data": {
      "image/png": "[encoded data removed]",
      "text/plain": [
       "<Figure size 576x396 with 1 Axes>"
      ]
     },
     "metadata": {},
     "output_type": "display_data"
    }
   ],
   "source": [
    "import matplotlib.pyplot as plt\n",
    "\n",
    "from sklearn.ensemble import GradientBoostingClassifier\n",
    "\n",
    "from yellowbrick.features.importances import FeatureImportances\n",
    "\n",
    "# Create a new matplotlib figure\n",
    "fig = plt.figure()\n",
    "ax = fig.add_subplot()\n",
    "\n",
    "viz = FeatureImportances(GradientBoostingClassifier(), ax=ax)\n",
    "viz.fit(t2m2_X_train, t2m2_y_train)\n",
    "viz.poof()"
   ]
  },
  {
   "cell_type": "markdown",
   "metadata": {},
   "source": [
    "Feature importances for our second task, predicting a frisk, is above. Inapropriate attire for season (rf_attir_0) is the most important feature which makes sense in the problem context."
   ]
  },
  {
   "cell_type": "markdown",
   "metadata": {},
   "source": [
    "### Task 3, Model 3 (KNN)"
   ]
  },
  {
   "cell_type": "code",
   "execution_count": 62,
   "metadata": {},
   "outputs": [],
   "source": [
    "#THIS CELL IS JUST SETTING SOME OF THE X/Y TRAIN/TEST SPLITS TO NEW DATA FRAMES\n",
    "\n",
    "knn2_X_train = t2m1_X_train\n",
    "knn2_y_train = t2m1_y_train\n",
    "knn2_X_test = t2m1_X_test\n",
    "knn2_y_test = t2m1_y_test"
   ]
  },
  {
   "cell_type": "markdown",
   "metadata": {},
   "source": [
    "Much like the model above, we used similar settings, however the model, although providing acceptable perfomance falls somewhat behind the other models we tried. A weighted F1-score of 0.60 is slightly lower than both the Logreg (0.66) and Random Forest (0.67) models for task 2.\n",
    "\n",
    "There is concern with the amount of overfitting and performance in the training model. Both the precision and recall of positive values (i.e. those who were frisked) is very low, indicating that there is a predisposition to classify it as a no frisk event. This is likely a result of the distribution in the original data. "
   ]
  },
  {
   "cell_type": "code",
   "execution_count": 63,
   "metadata": {},
   "outputs": [
    {
     "data": {
      "text/plain": [
       "KNeighborsClassifier(algorithm='auto', leaf_size=30, metric='minkowski',\n",
       "           metric_params=None, n_jobs=None, n_neighbors=5, p=2,\n",
       "           weights='uniform')"
      ]
     },
     "execution_count": 63,
     "metadata": {},
     "output_type": "execute_result"
    }
   ],
   "source": [
    "from sklearn.neighbors import KNeighborsClassifier  \n",
    "classifier = KNeighborsClassifier(n_neighbors=5)  \n",
    "classifier.fit(knn2_X_train, knn2_y_train)  "
   ]
  },
  {
   "cell_type": "code",
   "execution_count": 64,
   "metadata": {},
   "outputs": [],
   "source": [
    "knn2_y_pred = classifier.predict(knn2_X_test)  "
   ]
  },
  {
   "cell_type": "code",
   "execution_count": 65,
   "metadata": {},
   "outputs": [
    {
     "name": "stdout",
     "output_type": "stream",
     "text": [
      "[[17300  3740]\n",
      " [ 9688  5297]]\n",
      "              precision    recall  f1-score   support\n",
      "\n",
      "           0       0.64      0.82      0.72     21040\n",
      "           1       0.59      0.35      0.44     14985\n",
      "\n",
      "   micro avg       0.63      0.63      0.63     36025\n",
      "   macro avg       0.61      0.59      0.58     36025\n",
      "weighted avg       0.62      0.63      0.60     36025\n",
      "\n"
     ]
    }
   ],
   "source": [
    "from sklearn.metrics import classification_report, confusion_matrix  \n",
    "print(confusion_matrix(knn2_y_test,knn2_y_pred))  \n",
    "print(classification_report(knn2_y_test,knn2_y_pred)) "
   ]
  },
  {
   "cell_type": "code",
   "execution_count": null,
   "metadata": {},
   "outputs": [],
   "source": [
    "#WARNING THIS WILL TAKE FOREVER TO RUN\n",
    "\n",
    "error = []\n",
    "\n",
    "for i in range(1, 40):  \n",
    "    knn = KNeighborsClassifier(n_neighbors=i)\n",
    "    knn.fit(knn2_X_train, knn2_y_train)\n",
    "    pred_i = knn.predict(knn2_X_test)\n",
    "    error.append(np.mean(pred_i != knn2_y_test))"
   ]
  },
  {
   "cell_type": "code",
   "execution_count": null,
   "metadata": {},
   "outputs": [],
   "source": [
    "#THIS PLOTS WHAT WE RAN ABOVE\n",
    "\n",
    "plt.figure(figsize=(12, 6))  \n",
    "plt.plot(range(1, 40), error, color='red', linestyle='dashed', marker='o',  \n",
    "         markerfacecolor='blue', markersize=10)\n",
    "plt.title('Error Rate K Value')  \n",
    "plt.xlabel('K Value')  \n",
    "plt.ylabel('Mean Error')  "
   ]
  },
  {
   "cell_type": "markdown",
   "metadata": {},
   "source": [
    "For our first classification task, predicting whether or not a person was arrested, all of our models performed comparably with averaged F-meaure scores of .77, .78, and .77 respectively to logistic regression, random forest, and KNN. Even comparing the break down of Type I and Type II errors, they were all very similar. It doesn not seem like one model is advantageous over another and the data appears to lend itself to predicting whether or not a person was arrested.\n",
    "\n",
    "Our second classification task of predicting whether or not a person would be frisked by a police officer was decidedly more difficult to model. Our logistic regression and random forest models performed comparably with weight average f-measures of .66 and .67 respectively. Though our KNN means model did not perform as well for this classification task with an average f-measure of .60. It is possible that the KNN means model did not peform as well because it struggles with high dimensional data such as our data set. For predicting whether or not a person was frisked we saw significant enough improvement with our logistic regression and random forest models, that we would probably use these in the future."
   ]
  },
  {
   "cell_type": "markdown",
   "metadata": {},
   "source": [
    "## Which attributes from your analysis are most important?"
   ]
  },
  {
   "cell_type": "markdown",
   "metadata": {},
   "source": [
    "The most important factors in our model to determine whether or not a person was arrested were whether or not they were frisked or searched, whether they were inside or outside, and whether or not they were suspected of a particular crime. These seem logical in that the data we had went far enough to determine whether or not someone would likely be arrested.\n",
    "\n",
    "The most important factors to whether or not a person was frisked were if they were suspected of a crime, gender (male), and if they were in a certain area - near crime, city, and precinct. All of these seem reasonable at face value that an area already experiencing high crime would probably have a higher police presence to begin with which would lead to more people being stopped and frisked. Interestingly the highest weighted variable for whether or not someone was stopped and frisked was their attire. This would definitely be interesting to look into more to check for bias within procedures. Perhaps it is affiliation with a certain group, such as a street gang, which makes someone more likely to be frisked. It is also possible that police officers are more likely to target a style of dress which is more popular with an age group or race. If this is the case, then it is likely that there is still illegal factors being used in whether or not someone is stopped and frisked because there is legal precedent with bars not being allowed to have discrimantory dress codes.\n",
    "\n"
   ]
  },
  {
   "cell_type": "markdown",
   "metadata": {},
   "source": [
    "# Deployment"
   ]
  },
  {
   "cell_type": "markdown",
   "metadata": {},
   "source": [
    "Our intention all along has been to build these models for the NYPD in order to better their decision-making practices in regard to who they arrest, and now also who they stop and frisk. This data set began being collected in the early 2000s due to the valid concern that there was significant bias demonstrated in the people NYPD was stopping and frisking and arresting. This discrimination violated federal laws.  Thus, it was decided that the data collection was essential to tracking the police department’s actions in order to bring their operating procedures within legal compliance.\n",
    "\n",
    "To improve these practices, our models may not be especially helpful to the NYPD. It is not realistic that a police officer would enter all of these factors about a person into a model and let the model decide on whether or not the person should be frisked or arrested. We have seen similar models in place in judicial sentencings and know that they tend to propagate, and not curb, bias.\n",
    "\n",
    "However, other parts of our analysis such as variable selection may be very helpful. If we are predicting who is actually arrested and we are working on the assumption that the arrests occurring are valid, then identifying variables which are weighted of very low or very high importance might be useful. \n",
    "\n",
    "One bright side of the variable selection in our model was that some of variables which were significantly low were physical attributes that may demonstrate prejudice such as weight, build, and eye and hair color. While we only looked at one year of data (2013), it is possible that these indicate improvement in police officers making more objective, and less biased, decisions. Adding additional years to our model would also bolster the meaningfulness of our results. We chose a year where the NYPD was under scrutiny, but before the court system, demanded changes. Adding prior and subsequent years would demonstrate trends and track progress significantly better than our models based around our current one year of data."
   ]
  },
  {
   "cell_type": "markdown",
   "metadata": {},
   "source": [
    "# Exceptional Work"
   ]
  },
  {
   "cell_type": "markdown",
   "metadata": {},
   "source": [
    "## Grid Search for Logistic Regression"
   ]
  },
  {
   "cell_type": "markdown",
   "metadata": {},
   "source": [
    "### Task 1 - Logistic Regression Grid Search"
   ]
  },
  {
   "cell_type": "markdown",
   "metadata": {},
   "source": [
    "Let's try using Grid Search to maximize the F1-Score for our task 1 Logistic Regression model. The hyperparameters we tuned are:\n",
    "\n",
    "Penalty: l1 or l2 which specifies the norm used in the penalization.\n",
    "\n",
    "C: Inverse of regularization strength- smaller values of C specify stronger regularization.\n",
    "\n",
    "From the confusion matrix below, we can see that by tuning using grid search, we are able to increase the F1 score by almost 2%. It is now the highest performing model (by F1-Score) at 0.79.\n",
    "\n",
    "(source): https://towardsdatascience.com/grid-search-for-model-tuning-3319b259367e"
   ]
  },
  {
   "cell_type": "code",
   "execution_count": 66,
   "metadata": {},
   "outputs": [
    {
     "name": "stdout",
     "output_type": "stream",
     "text": [
      "Accuracy Score : 0.7736760944787122\n",
      "Precision Score : 0.7474320854169483\n",
      "Recall Score : 0.8290918631235711\n",
      "F1 Score : 0.7861470938394015\n"
     ]
    },
    {
     "data": {
      "text/plain": [
       "array([[19020,  7475],\n",
       "       [ 4560, 22121]], dtype=int64)"
      ]
     },
     "execution_count": 66,
     "metadata": {},
     "output_type": "execute_result"
    }
   ],
   "source": [
    "#Grid Search for task one, model one (LogReg)\n",
    "from sklearn.model_selection import GridSearchCV\n",
    "from sklearn.metrics import accuracy_score,recall_score,precision_score,f1_score\n",
    "clf = LogisticRegression()\n",
    "grid_values = {'penalty': ['l1', 'l2'],'C':[0.001,.009,0.01,.09,1,5,10,25]}\n",
    "grid_clf_acc = GridSearchCV(clf, param_grid = grid_values,scoring = 'f1')\n",
    "grid_clf_acc.fit(t1m1_X_train, t1m1_y_train)\n",
    "\n",
    "#Predict values based on new parameters\n",
    "t1_y_pred_acc = grid_clf_acc.predict(t1m1_X_test)\n",
    "\n",
    "# New Model Evaluation metrics \n",
    "print('Accuracy Score : ' + str(accuracy_score(t1m1_y_test,t1_y_pred_acc)))\n",
    "print('Precision Score : ' + str(precision_score(t1m1_y_test,t1_y_pred_acc)))\n",
    "print('Recall Score : ' + str(recall_score(t1m1_y_test,t1_y_pred_acc)))\n",
    "print('F1 Score : ' + str(f1_score(t1m1_y_test,t1_y_pred_acc)))\n",
    "\n",
    "#Logistic Regression (Grid Search) Confusion matrix\n",
    "from sklearn.metrics import confusion_matrix\n",
    "confusion_matrix(t1m1_y_test,t1_y_pred_acc)"
   ]
  },
  {
   "cell_type": "markdown",
   "metadata": {},
   "source": [
    "### Task 2 - Logistic Regression Grid Search"
   ]
  },
  {
   "cell_type": "markdown",
   "metadata": {},
   "source": [
    "Let's try using Grid Search again to maximize the F1-Score for our task 2 Logistic Regression model. Again, for reference, the hyperparameters we tuned are:\n",
    "\n",
    "Penalty: l1 or l2 which specifies the norm used in the penalization.\n",
    "\n",
    "C: Inverse of regularization strength- smaller values of C specify stronger regularization.\n",
    "\n",
    "From the confusion matrix below, we can see that by tuning using grid search, we decreased the F1-Score to 0.55, which is worst performance from the Logreg model without Grid Search. This decrease in performance could be due to the fact that when using GridSearchCV, "
   ]
  },
  {
   "cell_type": "code",
   "execution_count": 69,
   "metadata": {
    "scrolled": true
   },
   "outputs": [
    {
     "name": "stderr",
     "output_type": "stream",
     "text": [
      "C:\\Users\\Mike\\Anaconda3\\lib\\site-packages\\sklearn\\svm\\base.py:922: ConvergenceWarning: Liblinear failed to converge, increase the number of iterations.\n",
      "  \"the number of iterations.\", ConvergenceWarning)\n",
      "C:\\Users\\Mike\\Anaconda3\\lib\\site-packages\\sklearn\\svm\\base.py:922: ConvergenceWarning: Liblinear failed to converge, increase the number of iterations.\n",
      "  \"the number of iterations.\", ConvergenceWarning)\n"
     ]
    },
    {
     "name": "stdout",
     "output_type": "stream",
     "text": [
      "Accuracy Score : 0.6694517696044414\n",
      "Precision Score : 0.6307025741228443\n",
      "Recall Score : 0.49542876209542874\n",
      "F1 Score : 0.554940947824787\n"
     ]
    },
    {
     "data": {
      "text/plain": [
       "array([[16693,  4347],\n",
       "       [ 7561,  7424]], dtype=int64)"
      ]
     },
     "execution_count": 69,
     "metadata": {},
     "output_type": "execute_result"
    }
   ],
   "source": [
    "#Grid Search for task two, model one (LogReg)\n",
    "from sklearn.model_selection import GridSearchCV\n",
    "from sklearn.metrics import accuracy_score,recall_score,precision_score,f1_score\n",
    "clf = LogisticRegression()\n",
    "grid_values = {'penalty': ['l1', 'l2'],'C':[0.001,.009,0.01,.09,1,5,10,25]}\n",
    "grid_clf_acc = GridSearchCV(clf, param_grid = grid_values,scoring = 'f1')\n",
    "grid_clf_acc.fit(t2m1_X_train, t2m1_y_train)\n",
    "\n",
    "#Predict values based on new parameters\n",
    "t2_y_pred_acc = grid_clf_acc.predict(t2m1_X_test)\n",
    "\n",
    "# New Model Evaluation metrics \n",
    "print('Accuracy Score : ' + str(accuracy_score(t2m1_y_test,t2_y_pred_acc)))\n",
    "print('Precision Score : ' + str(precision_score(t2m1_y_test,t2_y_pred_acc)))\n",
    "print('Recall Score : ' + str(recall_score(t2m1_y_test,t2_y_pred_acc)))\n",
    "print('F1 Score : ' + str(f1_score(t2m1_y_test,t2_y_pred_acc)))\n",
    "\n",
    "#Logistic Regression (Grid Search) Confusion matrix\n",
    "from sklearn.metrics import confusion_matrix\n",
    "confusion_matrix(t2m1_y_test,t2_y_pred_acc)"
   ]
  }
 ],
 "metadata": {
  "kernelspec": {
   "display_name": "Python [conda env:root] *",
   "language": "python",
   "name": "conda-root-py"
  },
  "language_info": {
   "codemirror_mode": {
    "name": "ipython",
    "version": 3
   },
   "file_extension": ".py",
   "mimetype": "text/x-python",
   "name": "python",
   "nbconvert_exporter": "python",
   "pygments_lexer": "ipython3",
   "version": "3.7.4"
  }
 },
 "nbformat": 4,
 "nbformat_minor": 2
}
