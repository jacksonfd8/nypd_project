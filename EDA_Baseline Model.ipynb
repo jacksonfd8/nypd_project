{
 "cells": [
  {
   "cell_type": "markdown",
   "metadata": {},
   "source": [
    "I conduct exploratory data analysis around the features presented in the NYPD data set. \n",
    "- Any outliers? \n",
    "- Anything stick out as interesting trends within the data?\n",
    "\n",
    "Then I fit a logistic regression model and predict whether or not an arrest was made, in the event of a police frisking. I initially begin with a logistic regression with all features. Then, I break it down to a more interpretable model with less features, so that it is an actionable model to present to the NYPD."
   ]
  },
  {
   "cell_type": "code",
   "execution_count": 1,
   "metadata": {},
   "outputs": [],
   "source": [
    "# Import Libaries\n",
    "import warnings\n",
    "warnings.filterwarnings(\"ignore\")"
   ]
  },
  {
   "cell_type": "code",
   "execution_count": 3,
   "metadata": {},
   "outputs": [],
   "source": [
    "# import libraries\n",
    "import pandas as pd\n",
    "import numpy as np\n",
    "from sklearn import svm\n",
    "from sklearn.model_selection import train_test_split\n",
    "from matplotlib import pyplot as plt\n",
    "\n",
    "from sklearn.linear_model import LogisticRegression\n",
    "import seaborn as sns\n",
    "sns.set(style=\"white\")\n",
    "sns.set(style=\"whitegrid\", color_codes=True)"
   ]
  },
  {
   "cell_type": "code",
   "execution_count": 4,
   "metadata": {},
   "outputs": [
    {
     "data": {
      "text/plain": [
       "<bound method NDFrame.describe of         pct  ser_num  datestop  timestop recstat inout trhsloc       crimsusp  \\\n",
       "0         1        2   1012013       452       1     I       T  GRAND LARCENY   \n",
       "1         1        3   1012013       315       1     I       T  GRAND LARCENY   \n",
       "2         1        7   1012013       300       1     I       T        ROBBERY   \n",
       "3         1       11   1012013      1212       A     O       P        ROBBERY   \n",
       "4         1       12   1012013      2300       A     O       P       BURGLARY   \n",
       "...     ...      ...       ...       ...     ...   ...     ...            ...   \n",
       "191846   45     1160  12312013      2320       1     O       H         FELONY   \n",
       "191847    9     2338  12312013      2337       1     O       P         FELONY   \n",
       "191848   49     1645  12312013      2350       A     O       P         FELONY   \n",
       "191849   49     1647  12312013      2350       A     O       P         FELONY   \n",
       "191850   44     3485  12312013      2350       A     O       P            CPW   \n",
       "\n",
       "       typeofid explnstp  ... age ht_feet ht_inch height_in weight haircolr  \\\n",
       "0             P        Y  ...  41       5       9        69    200       BK   \n",
       "1             V        Y  ...  32       6       0        72    150       BK   \n",
       "2             V        Y  ...  20       5       7        67    170       BK   \n",
       "3             P        Y  ...  57       5      11        71    150       BK   \n",
       "4             V        Y  ...  31       6       0        72    200       BR   \n",
       "...         ...      ...  ...  ..     ...     ...       ...    ...      ...   \n",
       "191846        V        Y  ...  16       6       1        73    198       BK   \n",
       "191847        P        Y  ...  37       5       6        66    220       BK   \n",
       "191848        P        Y  ...  28       5       9        69    150       BK   \n",
       "191849        V        Y  ...  26       5      10        70    215       BK   \n",
       "191850        V        Y  ...  33       5       6        66    170       BK   \n",
       "\n",
       "       eyecolor build       city addrpct  \n",
       "0            BR     M  MANHATTAN       1  \n",
       "1            BR     T  MANHATTAN       1  \n",
       "2            BR     Z  MANHATTAN       1  \n",
       "3            BR     T  MANHATTAN       1  \n",
       "4            BR     M  MANHATTAN       1  \n",
       "...         ...   ...        ...     ...  \n",
       "191846       BR     M      BRONX      45  \n",
       "191847       BK     M  MANHATTAN       9  \n",
       "191848       BR     M      BRONX      49  \n",
       "191849       BR     M      BRONX      49  \n",
       "191850       BR     M      BRONX      44  \n",
       "\n",
       "[191851 rows x 33 columns]>"
      ]
     },
     "execution_count": 4,
     "metadata": {},
     "output_type": "execute_result"
    }
   ],
   "source": [
    "## import data\n",
    "df = pd.read_csv('nypd.csv', low_memory=False)\n",
    "\n",
    "## quick stats\n",
    "df.describe"
   ]
  },
  {
   "cell_type": "code",
   "execution_count": 5,
   "metadata": {},
   "outputs": [
    {
     "data": {
      "text/plain": [
       "<bound method DataFrame.dropna of         pct  ser_num  datestop  timestop recstat inout trhsloc       crimsusp  \\\n",
       "0         1        2   1012013       452       1     I       T  GRAND LARCENY   \n",
       "1         1        3   1012013       315       1     I       T  GRAND LARCENY   \n",
       "2         1        7   1012013       300       1     I       T        ROBBERY   \n",
       "3         1       11   1012013      1212       A     O       P        ROBBERY   \n",
       "4         1       12   1012013      2300       A     O       P       BURGLARY   \n",
       "...     ...      ...       ...       ...     ...   ...     ...            ...   \n",
       "191846   45     1160  12312013      2320       1     O       H         FELONY   \n",
       "191847    9     2338  12312013      2337       1     O       P         FELONY   \n",
       "191848   49     1645  12312013      2350       A     O       P         FELONY   \n",
       "191849   49     1647  12312013      2350       A     O       P         FELONY   \n",
       "191850   44     3485  12312013      2350       A     O       P            CPW   \n",
       "\n",
       "       typeofid explnstp  ... age ht_feet ht_inch height_in weight haircolr  \\\n",
       "0             P        Y  ...  41       5       9        69    200       BK   \n",
       "1             V        Y  ...  32       6       0        72    150       BK   \n",
       "2             V        Y  ...  20       5       7        67    170       BK   \n",
       "3             P        Y  ...  57       5      11        71    150       BK   \n",
       "4             V        Y  ...  31       6       0        72    200       BR   \n",
       "...         ...      ...  ...  ..     ...     ...       ...    ...      ...   \n",
       "191846        V        Y  ...  16       6       1        73    198       BK   \n",
       "191847        P        Y  ...  37       5       6        66    220       BK   \n",
       "191848        P        Y  ...  28       5       9        69    150       BK   \n",
       "191849        V        Y  ...  26       5      10        70    215       BK   \n",
       "191850        V        Y  ...  33       5       6        66    170       BK   \n",
       "\n",
       "       eyecolor build       city addrpct  \n",
       "0            BR     M  MANHATTAN       1  \n",
       "1            BR     T  MANHATTAN       1  \n",
       "2            BR     Z  MANHATTAN       1  \n",
       "3            BR     T  MANHATTAN       1  \n",
       "4            BR     M  MANHATTAN       1  \n",
       "...         ...   ...        ...     ...  \n",
       "191846       BR     M      BRONX      45  \n",
       "191847       BK     M  MANHATTAN       9  \n",
       "191848       BR     M      BRONX      49  \n",
       "191849       BR     M      BRONX      49  \n",
       "191850       BR     M      BRONX      44  \n",
       "\n",
       "[191851 rows x 33 columns]>"
      ]
     },
     "execution_count": 5,
     "metadata": {},
     "output_type": "execute_result"
    }
   ],
   "source": [
    "# Looks like we have a pretty large dataset (191,851 rows). Let's check to see if there are any NA values\n",
    "# and simply drop them from our set.\n",
    "\n",
    "df.isna().sum()\n",
    "df.dropna"
   ]
  },
  {
   "cell_type": "code",
   "execution_count": 6,
   "metadata": {},
   "outputs": [
    {
     "data": {
      "text/plain": [
       "FEL                        36028\n",
       "FELONY                     32358\n",
       "MISD                       28386\n",
       "CPW                        20533\n",
       "ROBBERY                    13609\n",
       "                           ...  \n",
       "FEL  / BURGLARY PATTERN        1\n",
       "CWP (FEL)                      1\n",
       "UNLAWFULOF FARE MEDIA          1\n",
       "MIS/MAKING GRAFFITTI           1\n",
       "PROHIBITED SALE OF ALCO        1\n",
       "Name: crimsusp, Length: 2615, dtype: int64"
      ]
     },
     "execution_count": 6,
     "metadata": {},
     "output_type": "execute_result"
    }
   ],
   "source": [
    "# 'crimsusp' column could be of value for insights later.\n",
    "df['crimsusp'].value_counts().sort_values(ascending=False)"
   ]
  },
  {
   "cell_type": "markdown",
   "metadata": {},
   "source": [
    "### We see there are many variations of different crimes that were suspected by the police. We will need to combine some values here."
   ]
  },
  {
   "cell_type": "code",
   "execution_count": 7,
   "metadata": {},
   "outputs": [
    {
     "name": "stdout",
     "output_type": "stream",
     "text": [
      "FEL                   36028\n",
      "FELONY                32358\n",
      "MISD                  28386\n",
      "CPW                   20533\n",
      "ROBBERY               13609\n",
      "BURGLARY               8016\n",
      "GLA                    5668\n",
      "CPM                    3587\n",
      "GRAND LARCENY          3470\n",
      "ASSAULT                2734\n",
      "MISDEMEANOR            2621\n",
      "CRIMINAL TRESPASS      2278\n",
      "BURG                   1995\n",
      "CPCS                   1698\n",
      "CRIM TRES              1634\n",
      "PETIT LARCENY          1538\n",
      "CSCS                   1365\n",
      "FELONY/ROBBERY         1041\n",
      "MIS                    1039\n",
      "ROB                     849\n",
      "F                       677\n",
      "M                       638\n",
      "CRIMINAL MISCHIEF       542\n",
      "G/L                     533\n",
      "MIS/CPW                 526\n",
      "FELONY/BURG             521\n",
      "GRAFFITI                498\n",
      "MAKING GRAFFITI         442\n",
      "FEL/BURG                418\n",
      "CPSP                    385\n",
      "FEL/CPW                 379\n",
      "CRIM TRESS              343\n",
      "ASSAULT 3               331\n",
      "CT                      320\n",
      "GRAND LARC              308\n",
      "CRIM TRESPASS           284\n",
      "USFM                    279\n",
      "ROBBERY (FEL)           225\n",
      "GRAND LARCENY AUTO      219\n",
      "ROBB                    210\n",
      "BURGLARY (FEL)          208\n",
      "CRIM MIS                205\n",
      "FELONY/GLA              195\n",
      "FEL/GLA                 183\n",
      "FEL.                    177\n",
      "MIS/ASSAULT             162\n",
      "FEL  / CPW              159\n",
      "AUTO STRIPPING          157\n",
      "TRESPASS                152\n",
      "Name: crimsusp, dtype: int64\n"
     ]
    }
   ],
   "source": [
    "## crimsusp appears to be something we can predict off, let's take a deeper look\n",
    "cs_cts = df['crimsusp'].value_counts().sort_values(ascending=False)\n",
    "cs_cts = cs_cts[cs_cts > 150]\n",
    "\n",
    "print(cs_cts)"
   ]
  },
  {
   "cell_type": "markdown",
   "metadata": {},
   "source": [
    "### The good news is that we've accounted for missing values earlier. The bad news is that we have different variations of how \"crime suspected\" was recorded. This makes sense since different officers may have their preference of entering their personal notes. Let's try to use some intuition in cleaning these columns up."
   ]
  },
  {
   "cell_type": "code",
   "execution_count": 8,
   "metadata": {},
   "outputs": [
    {
     "data": {
      "text/plain": [
       "array(['FEL', 'FELONY', 'MISD', 'CPW', 'ROBBERY', 'BURGLARY', 'GLA',\n",
       "       'CPM', 'GRAND LARCENY', 'ASSAULT', 'MISDEMEANOR',\n",
       "       'CRIMINAL TRESPASS', 'BURG', 'CPCS', 'CRIM TRES', 'PETIT LARCENY',\n",
       "       'CSCS', 'FELONY/ROBBERY', 'MIS', 'ROB', 'F', 'M',\n",
       "       'CRIMINAL MISCHIEF', 'G/L', 'MIS/CPW', 'FELONY/BURG', 'GRAFFITI',\n",
       "       'MAKING GRAFFITI', 'FEL/BURG', 'CPSP', 'FEL/CPW', 'CRIM TRESS',\n",
       "       'ASSAULT 3', 'CT', 'GRAND LARC', 'CRIM TRESPASS', 'USFM',\n",
       "       'ROBBERY (FEL)', 'GRAND LARCENY AUTO', 'ROBB', 'BURGLARY (FEL)',\n",
       "       'CRIM MIS', 'FELONY/GLA', 'FEL/GLA', 'FEL.', 'MIS/ASSAULT',\n",
       "       'FEL  / CPW', 'AUTO STRIPPING', 'TRESPASS'], dtype=object)"
      ]
     },
     "execution_count": 8,
     "metadata": {},
     "output_type": "execute_result"
    }
   ],
   "source": [
    "cs_cts.index.values"
   ]
  },
  {
   "cell_type": "code",
   "execution_count": 9,
   "metadata": {},
   "outputs": [],
   "source": [
    "df = df[df['crimsusp'].isin(cs_cts.index.values)]"
   ]
  },
  {
   "cell_type": "markdown",
   "metadata": {},
   "source": [
    "### Still seems we can clean the data further"
   ]
  },
  {
   "cell_type": "code",
   "execution_count": 10,
   "metadata": {},
   "outputs": [],
   "source": [
    "# Replace values remotely close to 'FELONY'\n",
    "fel_rows = df.loc[df['crimsusp'].isin(['FEL', 'FEL/ASSAULT', 'F', 'FEL.'])].index.values\n",
    "df.loc[fel_rows, 'crimsusp'] = 'FELONY'\n",
    "\n",
    "# Replace things that get close to 'BURGLARY'\n",
    "burg_rows = df.loc[df['crimsusp'].isin(['BURG', 'BURGLARY (FEL)', 'FEL/BURG', 'FELONY/BURG'])].index.values\n",
    "df.loc[burg_rows, 'crimsusp'] = 'BURGLARY'\n",
    "\n",
    "# Replace values remotely close to 'MISDEMEANOR'\n",
    "mis_rows = df.loc[df['crimsusp'].isin(['MIS', 'M', 'MISD'])].index.values\n",
    "df.loc[mis_rows, 'crimsusp'] = 'MISDEMEANOR'\n",
    "\n",
    "# Replace values remotely close to 'ROBBERY'\n",
    "rob_rows = df.loc[df['crimsusp'].isin(['ROB', 'ROBBERY (FEL)', 'ROBB', 'FELONY/ROBBERY'])].index.values\n",
    "df.loc[rob_rows, 'crimsusp'] = 'ROBBERY'\n",
    "\n",
    "# Replace values remotely close to 'CRIMINAL TRESPASS'\n",
    "crim_rows = df.loc[df['crimsusp'].isin(['CRIM TRESS', 'TRESPASS', 'CT', 'CRIM TRESPASS', 'CRIM TRES'])].index.values\n",
    "df.loc[crim_rows, 'crimsusp'] = 'CRIMINAL TRESPASS'\n",
    "\n",
    "# Replace values remotely close to 'GRAFFITI'\n",
    "graf_rows = df.loc[df['crimsusp'].isin(['MAKING GRAFFITI'])].index.values\n",
    "df.loc[graf_rows, 'crimsusp'] = 'GRAFFITI'\n",
    "\n",
    "# Replace values remotely close to 'ASSAULT'\n",
    "as_rows = df.loc[df['crimsusp'].isin(['ASSAULT 3', 'MIS/ASSAULT'])].index.values\n",
    "df.loc[as_rows, 'crimsusp'] = 'ASSAULT'\n",
    "\n",
    "# Replace values remotely close to 'ASSAULT'\n",
    "as_rows = df.loc[df['crimsusp'].isin(['ASSAULT 3'])].index.values\n",
    "df.loc[as_rows, 'crimsusp'] = 'ASSAULT'\n",
    "\n",
    "# Replace values remotely close to 'CRIMINAL MISCHIEF'\n",
    "cm_rows = df.loc[df['crimsusp'].isin(['CRIM MIS'])].index.values\n",
    "df.loc[cm_rows, 'crimsusp'] = 'CRIMINAL MISCHIEF'\n",
    "\n",
    "# Replace values remotely close to 'GRAND LARCENY'\n",
    "gc_rows = df.loc[df['crimsusp'].isin(['GRAND LARC', 'G/L', 'GLA', 'GRAND LARCENY AUTO', 'FEL/GLA', 'FELONY/GLA'])].index.values\n",
    "df.loc[gc_rows, 'crimsusp'] = 'GRAND LARCENY'\n",
    "\n",
    "# Replace values remotely close to 'CPW'\n",
    "cpw_rows = df.loc[df['crimsusp'].isin(['FEL  / CPW', 'FEL/CPW','MIS/CPW'])].index.values\n",
    "df.loc[cpw_rows, 'crimsusp'] = 'CPW'"
   ]
  },
  {
   "cell_type": "code",
   "execution_count": 11,
   "metadata": {},
   "outputs": [
    {
     "data": {
      "text/plain": [
       "ASSAULT               3227\n",
       "AUTO STRIPPING         157\n",
       "BURGLARY             11158\n",
       "CPCS                  1698\n",
       "CPM                   3587\n",
       "CPSP                   385\n",
       "CPW                  21597\n",
       "CRIMINAL MISCHIEF      747\n",
       "CRIMINAL TRESPASS     5011\n",
       "CSCS                  1365\n",
       "FELONY               69240\n",
       "GRAFFITI               940\n",
       "GRAND LARCENY        10576\n",
       "MISDEMEANOR          32684\n",
       "PETIT LARCENY         1538\n",
       "ROBBERY              15934\n",
       "USFM                   279\n",
       "Name: crimsusp, dtype: int64"
      ]
     },
     "execution_count": 11,
     "metadata": {},
     "output_type": "execute_result"
    }
   ],
   "source": [
    "df['crimsusp'].value_counts().sort_index()"
   ]
  },
  {
   "cell_type": "markdown",
   "metadata": {},
   "source": [
    "### Fantastic! It looks like we got down to 17 values for the *crimsusp* column, as opposed to the initial 2615!"
   ]
  },
  {
   "cell_type": "code",
   "execution_count": 12,
   "metadata": {},
   "outputs": [],
   "source": [
    "# Saving to a .csv in case!\n",
    "df.to_csv('nypd_cleaned.csv', sep = \",\")"
   ]
  },
  {
   "cell_type": "code",
   "execution_count": 3,
   "metadata": {},
   "outputs": [],
   "source": [
    "df = pd.read_csv('ny_cleaned.csv')\n",
    "y = df['arstmade']"
   ]
  },
  {
   "cell_type": "markdown",
   "metadata": {},
   "source": [
    "## Data Exploration"
   ]
  },
  {
   "cell_type": "code",
   "execution_count": 4,
   "metadata": {},
   "outputs": [
    {
     "data": {
      "text/plain": [
       "N    166195\n",
       "Y     13928\n",
       "Name: arstmade, dtype: int64"
      ]
     },
     "execution_count": 4,
     "metadata": {},
     "output_type": "execute_result"
    }
   ],
   "source": [
    "df['arstmade'].value_counts() ## Let's explore the ratio of those who were actualy arrested"
   ]
  },
  {
   "cell_type": "code",
   "execution_count": 5,
   "metadata": {},
   "outputs": [
    {
     "data": {
      "image/png": "[encoded data removed]",
      "text/plain": [
       "<Figure size 432x288 with 1 Axes>"
      ]
     },
     "metadata": {},
     "output_type": "display_data"
    }
   ],
   "source": [
    "sns.countplot(x='arstmade', data=df, palette='hls')\n",
    "plt.show()\n",
    "plt.savefig('count_plot')"
   ]
  },
  {
   "cell_type": "code",
   "execution_count": 6,
   "metadata": {},
   "outputs": [
    {
     "name": "stdout",
     "output_type": "stream",
     "text": [
      "Percentage of no arrest made: 92.26750609305864\n",
      "Percentage of an arrest made: 7.732493906941368\n"
     ]
    }
   ],
   "source": [
    "# We see that our classes are imbalanced, so we'll need to account for this when splitting our training + test sets\n",
    "count_no_arst = len(df[df['arstmade']=='N'])\n",
    "count_arst = len(df[df['arstmade']=='Y'])\n",
    "pct_of_no_arst = count_no_arst/(count_no_arst + count_arst)\n",
    "print(\"Percentage of no arrest made:\", pct_of_no_arst*100)\n",
    "pct_of_arst = count_arst/(count_no_arst + count_arst)\n",
    "print(\"Percentage of an arrest made:\", pct_of_arst*100)"
   ]
  },
  {
   "cell_type": "markdown",
   "metadata": {},
   "source": [
    "### Deeper Dive"
   ]
  },
  {
   "cell_type": "code",
   "execution_count": 7,
   "metadata": {},
   "outputs": [
    {
     "data": {
      "text/html": [
       "<div>\n",
       "<style scoped>\n",
       "    .dataframe tbody tr th:only-of-type {\n",
       "        vertical-align: middle;\n",
       "    }\n",
       "\n",
       "    .dataframe tbody tr th {\n",
       "        vertical-align: top;\n",
       "    }\n",
       "\n",
       "    .dataframe thead th {\n",
       "        text-align: right;\n",
       "    }\n",
       "</style>\n",
       "<table border=\"1\" class=\"dataframe\">\n",
       "  <thead>\n",
       "    <tr style=\"text-align: right;\">\n",
       "      <th></th>\n",
       "      <th>Unnamed: 0</th>\n",
       "      <th>pct</th>\n",
       "      <th>ser_num</th>\n",
       "      <th>datestop</th>\n",
       "      <th>timestop</th>\n",
       "      <th>revcmd</th>\n",
       "      <th>ht_feet</th>\n",
       "      <th>ht_inch</th>\n",
       "      <th>height_in</th>\n",
       "      <th>weight</th>\n",
       "      <th>addrpct</th>\n",
       "    </tr>\n",
       "    <tr>\n",
       "      <th>arstmade</th>\n",
       "      <th></th>\n",
       "      <th></th>\n",
       "      <th></th>\n",
       "      <th></th>\n",
       "      <th></th>\n",
       "      <th></th>\n",
       "      <th></th>\n",
       "      <th></th>\n",
       "      <th></th>\n",
       "      <th></th>\n",
       "      <th></th>\n",
       "    </tr>\n",
       "  </thead>\n",
       "  <tbody>\n",
       "    <tr>\n",
       "      <th>N</th>\n",
       "      <td>94118.705400</td>\n",
       "      <td>69.711483</td>\n",
       "      <td>1725.304570</td>\n",
       "      <td>4.095301e+06</td>\n",
       "      <td>1391.680472</td>\n",
       "      <td>223.171479</td>\n",
       "      <td>5.196167</td>\n",
       "      <td>6.375174</td>\n",
       "      <td>68.729180</td>\n",
       "      <td>170.007533</td>\n",
       "      <td>69.711483</td>\n",
       "    </tr>\n",
       "    <tr>\n",
       "      <th>Y</th>\n",
       "      <td>110418.881031</td>\n",
       "      <td>62.224153</td>\n",
       "      <td>1823.374426</td>\n",
       "      <td>5.085841e+06</td>\n",
       "      <td>1370.439833</td>\n",
       "      <td>270.340034</td>\n",
       "      <td>5.204696</td>\n",
       "      <td>6.193926</td>\n",
       "      <td>68.650273</td>\n",
       "      <td>170.964747</td>\n",
       "      <td>62.224153</td>\n",
       "    </tr>\n",
       "  </tbody>\n",
       "</table>\n",
       "</div>"
      ],
      "text/plain": [
       "             Unnamed: 0        pct      ser_num      datestop     timestop  \\\n",
       "arstmade                                                                     \n",
       "N          94118.705400  69.711483  1725.304570  4.095301e+06  1391.680472   \n",
       "Y         110418.881031  62.224153  1823.374426  5.085841e+06  1370.439833   \n",
       "\n",
       "              revcmd   ht_feet   ht_inch  height_in      weight    addrpct  \n",
       "arstmade                                                                    \n",
       "N         223.171479  5.196167  6.375174  68.729180  170.007533  69.711483  \n",
       "Y         270.340034  5.204696  6.193926  68.650273  170.964747  62.224153  "
      ]
     },
     "execution_count": 7,
     "metadata": {},
     "output_type": "execute_result"
    }
   ],
   "source": [
    "df.groupby('arstmade').mean()"
   ]
  },
  {
   "cell_type": "markdown",
   "metadata": {},
   "source": [
    "Observations\n",
    "- Most of these variables are unique (precinct numbers or serial numbers), and do not provide much insight.\n",
    "- Datestop can be a variable of interest, as more arrests happened in the later months.\n",
    "- Those arrested seemed to weigh slightly more, on average, than those who were not arrested."
   ]
  },
  {
   "cell_type": "markdown",
   "metadata": {},
   "source": [
    "#### Let's look at some categorical variables (that are not unique) for insights. There are a lot!"
   ]
  },
  {
   "cell_type": "code",
   "execution_count": 8,
   "metadata": {},
   "outputs": [
    {
     "data": {
      "text/html": [
       "<div>\n",
       "<style scoped>\n",
       "    .dataframe tbody tr th:only-of-type {\n",
       "        vertical-align: middle;\n",
       "    }\n",
       "\n",
       "    .dataframe tbody tr th {\n",
       "        vertical-align: top;\n",
       "    }\n",
       "\n",
       "    .dataframe thead th {\n",
       "        text-align: right;\n",
       "    }\n",
       "</style>\n",
       "<table border=\"1\" class=\"dataframe\">\n",
       "  <thead>\n",
       "    <tr style=\"text-align: right;\">\n",
       "      <th></th>\n",
       "      <th>Unnamed: 0</th>\n",
       "      <th>pct</th>\n",
       "      <th>ser_num</th>\n",
       "      <th>datestop</th>\n",
       "      <th>timestop</th>\n",
       "      <th>revcmd</th>\n",
       "      <th>ht_feet</th>\n",
       "      <th>ht_inch</th>\n",
       "      <th>height_in</th>\n",
       "      <th>weight</th>\n",
       "      <th>addrpct</th>\n",
       "    </tr>\n",
       "    <tr>\n",
       "      <th>inout</th>\n",
       "      <th></th>\n",
       "      <th></th>\n",
       "      <th></th>\n",
       "      <th></th>\n",
       "      <th></th>\n",
       "      <th></th>\n",
       "      <th></th>\n",
       "      <th></th>\n",
       "      <th></th>\n",
       "      <th></th>\n",
       "      <th></th>\n",
       "    </tr>\n",
       "  </thead>\n",
       "  <tbody>\n",
       "    <tr>\n",
       "      <th>I</th>\n",
       "      <td>84851.732190</td>\n",
       "      <td>54.649820</td>\n",
       "      <td>1602.619158</td>\n",
       "      <td>3.705134e+06</td>\n",
       "      <td>1417.890545</td>\n",
       "      <td>501.385042</td>\n",
       "      <td>5.184346</td>\n",
       "      <td>6.247733</td>\n",
       "      <td>68.459883</td>\n",
       "      <td>168.008076</td>\n",
       "      <td>54.649820</td>\n",
       "    </tr>\n",
       "    <tr>\n",
       "      <th>O</th>\n",
       "      <td>98408.001666</td>\n",
       "      <td>73.299418</td>\n",
       "      <td>1770.368064</td>\n",
       "      <td>4.306189e+06</td>\n",
       "      <td>1382.024457</td>\n",
       "      <td>147.821952</td>\n",
       "      <td>5.200418</td>\n",
       "      <td>6.393793</td>\n",
       "      <td>68.798803</td>\n",
       "      <td>170.678120</td>\n",
       "      <td>73.299418</td>\n",
       "    </tr>\n",
       "  </tbody>\n",
       "</table>\n",
       "</div>"
      ],
      "text/plain": [
       "         Unnamed: 0        pct      ser_num      datestop     timestop  \\\n",
       "inout                                                                    \n",
       "I      84851.732190  54.649820  1602.619158  3.705134e+06  1417.890545   \n",
       "O      98408.001666  73.299418  1770.368064  4.306189e+06  1382.024457   \n",
       "\n",
       "           revcmd   ht_feet   ht_inch  height_in      weight    addrpct  \n",
       "inout                                                                    \n",
       "I      501.385042  5.184346  6.247733  68.459883  168.008076  54.649820  \n",
       "O      147.821952  5.200418  6.393793  68.798803  170.678120  73.299418  "
      ]
     },
     "execution_count": 8,
     "metadata": {},
     "output_type": "execute_result"
    }
   ],
   "source": [
    "df.groupby('inout').mean() # Was whether or not a suspect being frisked inside or outside important to arrest?"
   ]
  },
  {
   "cell_type": "code",
   "execution_count": 9,
   "metadata": {},
   "outputs": [
    {
     "data": {
      "image/png": "[encoded data removed]",
      "text/plain": [
       "<Figure size 432x288 with 1 Axes>"
      ]
     },
     "metadata": {},
     "output_type": "display_data"
    }
   ],
   "source": [
    "%matplotlib inline\n",
    "pd.crosstab(df.inout,df.arstmade).plot(kind='bar')\n",
    "plt.title('Arrest Frequency for Inside vs Outside')\n",
    "plt.xlabel('Location')\n",
    "plt.ylabel('Frequency of Arrest')\n",
    "plt.savefig('arrest_freq_inout')\n",
    "\n",
    "# Doesn't seem location would play a role in prediction."
   ]
  },
  {
   "cell_type": "code",
   "execution_count": 10,
   "metadata": {
    "scrolled": true
   },
   "outputs": [
    {
     "data": {
      "text/html": [
       "<div>\n",
       "<style scoped>\n",
       "    .dataframe tbody tr th:only-of-type {\n",
       "        vertical-align: middle;\n",
       "    }\n",
       "\n",
       "    .dataframe tbody tr th {\n",
       "        vertical-align: top;\n",
       "    }\n",
       "\n",
       "    .dataframe thead th {\n",
       "        text-align: right;\n",
       "    }\n",
       "</style>\n",
       "<table border=\"1\" class=\"dataframe\">\n",
       "  <thead>\n",
       "    <tr style=\"text-align: right;\">\n",
       "      <th></th>\n",
       "      <th>Unnamed: 0</th>\n",
       "      <th>pct</th>\n",
       "      <th>ser_num</th>\n",
       "      <th>datestop</th>\n",
       "      <th>timestop</th>\n",
       "      <th>revcmd</th>\n",
       "      <th>ht_feet</th>\n",
       "      <th>ht_inch</th>\n",
       "      <th>height_in</th>\n",
       "      <th>weight</th>\n",
       "      <th>addrpct</th>\n",
       "    </tr>\n",
       "    <tr>\n",
       "      <th>crimsusp</th>\n",
       "      <th></th>\n",
       "      <th></th>\n",
       "      <th></th>\n",
       "      <th></th>\n",
       "      <th></th>\n",
       "      <th></th>\n",
       "      <th></th>\n",
       "      <th></th>\n",
       "      <th></th>\n",
       "      <th></th>\n",
       "      <th></th>\n",
       "    </tr>\n",
       "  </thead>\n",
       "  <tbody>\n",
       "    <tr>\n",
       "      <th>ASSAULT</th>\n",
       "      <td>104995.821196</td>\n",
       "      <td>69.936164</td>\n",
       "      <td>1708.085218</td>\n",
       "      <td>4.543671e+06</td>\n",
       "      <td>1223.016734</td>\n",
       "      <td>180.300899</td>\n",
       "      <td>5.185002</td>\n",
       "      <td>6.157422</td>\n",
       "      <td>68.377440</td>\n",
       "      <td>168.374961</td>\n",
       "      <td>69.936164</td>\n",
       "    </tr>\n",
       "    <tr>\n",
       "      <th>AUTO STRIPPING</th>\n",
       "      <td>111334.108280</td>\n",
       "      <td>68.847134</td>\n",
       "      <td>1504.636943</td>\n",
       "      <td>4.918574e+06</td>\n",
       "      <td>1015.184713</td>\n",
       "      <td>95.942675</td>\n",
       "      <td>5.171975</td>\n",
       "      <td>6.770701</td>\n",
       "      <td>68.834395</td>\n",
       "      <td>173.777070</td>\n",
       "      <td>68.847134</td>\n",
       "    </tr>\n",
       "    <tr>\n",
       "      <th>BURGLARY</th>\n",
       "      <td>93709.754705</td>\n",
       "      <td>82.262861</td>\n",
       "      <td>1467.077792</td>\n",
       "      <td>3.989286e+06</td>\n",
       "      <td>1297.413067</td>\n",
       "      <td>93.707026</td>\n",
       "      <td>5.186772</td>\n",
       "      <td>6.346299</td>\n",
       "      <td>68.587560</td>\n",
       "      <td>171.262413</td>\n",
       "      <td>82.262861</td>\n",
       "    </tr>\n",
       "    <tr>\n",
       "      <th>CPCS</th>\n",
       "      <td>97109.068905</td>\n",
       "      <td>69.927562</td>\n",
       "      <td>1638.696702</td>\n",
       "      <td>4.285723e+06</td>\n",
       "      <td>1440.735571</td>\n",
       "      <td>166.654888</td>\n",
       "      <td>5.199058</td>\n",
       "      <td>6.328033</td>\n",
       "      <td>68.716726</td>\n",
       "      <td>172.492933</td>\n",
       "      <td>69.927562</td>\n",
       "    </tr>\n",
       "    <tr>\n",
       "      <th>CPM</th>\n",
       "      <td>94888.671034</td>\n",
       "      <td>68.566769</td>\n",
       "      <td>1704.945079</td>\n",
       "      <td>4.142732e+06</td>\n",
       "      <td>1528.232506</td>\n",
       "      <td>332.695567</td>\n",
       "      <td>5.202398</td>\n",
       "      <td>6.221912</td>\n",
       "      <td>68.650683</td>\n",
       "      <td>167.999164</td>\n",
       "      <td>68.566769</td>\n",
       "    </tr>\n",
       "    <tr>\n",
       "      <th>CPSP</th>\n",
       "      <td>105977.327273</td>\n",
       "      <td>73.462338</td>\n",
       "      <td>1675.018182</td>\n",
       "      <td>4.621078e+06</td>\n",
       "      <td>1362.038961</td>\n",
       "      <td>156.264935</td>\n",
       "      <td>5.168831</td>\n",
       "      <td>6.498701</td>\n",
       "      <td>68.524675</td>\n",
       "      <td>169.677922</td>\n",
       "      <td>73.462338</td>\n",
       "    </tr>\n",
       "    <tr>\n",
       "      <th>CPW</th>\n",
       "      <td>95331.007825</td>\n",
       "      <td>67.798213</td>\n",
       "      <td>1920.567070</td>\n",
       "      <td>4.188831e+06</td>\n",
       "      <td>1408.328379</td>\n",
       "      <td>193.055563</td>\n",
       "      <td>5.213085</td>\n",
       "      <td>6.422281</td>\n",
       "      <td>68.979303</td>\n",
       "      <td>172.569292</td>\n",
       "      <td>67.798213</td>\n",
       "    </tr>\n",
       "    <tr>\n",
       "      <th>CRIMINAL MISCHIEF</th>\n",
       "      <td>105398.082999</td>\n",
       "      <td>65.183400</td>\n",
       "      <td>1570.069612</td>\n",
       "      <td>4.623981e+06</td>\n",
       "      <td>1209.568942</td>\n",
       "      <td>280.900937</td>\n",
       "      <td>5.165997</td>\n",
       "      <td>6.392236</td>\n",
       "      <td>68.384203</td>\n",
       "      <td>166.547523</td>\n",
       "      <td>65.183400</td>\n",
       "    </tr>\n",
       "    <tr>\n",
       "      <th>CRIMINAL TRESPASS</th>\n",
       "      <td>87168.836959</td>\n",
       "      <td>61.913590</td>\n",
       "      <td>1701.335662</td>\n",
       "      <td>3.806168e+06</td>\n",
       "      <td>1435.725205</td>\n",
       "      <td>387.168230</td>\n",
       "      <td>5.159848</td>\n",
       "      <td>6.293355</td>\n",
       "      <td>68.211535</td>\n",
       "      <td>165.991219</td>\n",
       "      <td>61.913590</td>\n",
       "    </tr>\n",
       "    <tr>\n",
       "      <th>CSCS</th>\n",
       "      <td>102261.336996</td>\n",
       "      <td>66.479853</td>\n",
       "      <td>1666.400733</td>\n",
       "      <td>4.557295e+06</td>\n",
       "      <td>1445.295238</td>\n",
       "      <td>145.126007</td>\n",
       "      <td>5.216850</td>\n",
       "      <td>6.361172</td>\n",
       "      <td>68.963370</td>\n",
       "      <td>175.075458</td>\n",
       "      <td>66.479853</td>\n",
       "    </tr>\n",
       "    <tr>\n",
       "      <th>FELONY</th>\n",
       "      <td>97242.871563</td>\n",
       "      <td>72.762132</td>\n",
       "      <td>1812.831499</td>\n",
       "      <td>4.294911e+06</td>\n",
       "      <td>1386.801516</td>\n",
       "      <td>194.112493</td>\n",
       "      <td>5.203640</td>\n",
       "      <td>6.376502</td>\n",
       "      <td>68.820176</td>\n",
       "      <td>170.456716</td>\n",
       "      <td>72.762132</td>\n",
       "    </tr>\n",
       "    <tr>\n",
       "      <th>GRAFFITI</th>\n",
       "      <td>99701.021277</td>\n",
       "      <td>73.948936</td>\n",
       "      <td>1321.201064</td>\n",
       "      <td>4.213704e+06</td>\n",
       "      <td>1471.404255</td>\n",
       "      <td>102.277660</td>\n",
       "      <td>5.148936</td>\n",
       "      <td>6.421277</td>\n",
       "      <td>68.208511</td>\n",
       "      <td>160.374468</td>\n",
       "      <td>73.948936</td>\n",
       "    </tr>\n",
       "    <tr>\n",
       "      <th>GRAND LARCENY</th>\n",
       "      <td>97495.217474</td>\n",
       "      <td>71.188635</td>\n",
       "      <td>1495.748109</td>\n",
       "      <td>4.208124e+06</td>\n",
       "      <td>1239.352118</td>\n",
       "      <td>237.020707</td>\n",
       "      <td>5.199414</td>\n",
       "      <td>6.437689</td>\n",
       "      <td>68.830654</td>\n",
       "      <td>173.388238</td>\n",
       "      <td>71.188635</td>\n",
       "    </tr>\n",
       "    <tr>\n",
       "      <th>MISDEMEANOR</th>\n",
       "      <td>92739.146157</td>\n",
       "      <td>55.700740</td>\n",
       "      <td>1708.964233</td>\n",
       "      <td>4.030519e+06</td>\n",
       "      <td>1462.448109</td>\n",
       "      <td>367.496634</td>\n",
       "      <td>5.188196</td>\n",
       "      <td>6.273559</td>\n",
       "      <td>68.531912</td>\n",
       "      <td>168.116112</td>\n",
       "      <td>55.700740</td>\n",
       "    </tr>\n",
       "    <tr>\n",
       "      <th>PETIT LARCENY</th>\n",
       "      <td>101931.012354</td>\n",
       "      <td>57.788036</td>\n",
       "      <td>1421.405722</td>\n",
       "      <td>4.447650e+06</td>\n",
       "      <td>1310.964239</td>\n",
       "      <td>356.491547</td>\n",
       "      <td>5.198309</td>\n",
       "      <td>6.071521</td>\n",
       "      <td>68.451235</td>\n",
       "      <td>170.001951</td>\n",
       "      <td>57.788036</td>\n",
       "    </tr>\n",
       "    <tr>\n",
       "      <th>ROBBERY</th>\n",
       "      <td>91169.917598</td>\n",
       "      <td>76.459207</td>\n",
       "      <td>1639.460587</td>\n",
       "      <td>3.960032e+06</td>\n",
       "      <td>1388.300741</td>\n",
       "      <td>145.339965</td>\n",
       "      <td>5.183821</td>\n",
       "      <td>6.467365</td>\n",
       "      <td>68.673215</td>\n",
       "      <td>168.217334</td>\n",
       "      <td>76.459207</td>\n",
       "    </tr>\n",
       "    <tr>\n",
       "      <th>USFM</th>\n",
       "      <td>70005.512545</td>\n",
       "      <td>10.494624</td>\n",
       "      <td>982.813620</td>\n",
       "      <td>3.076637e+06</td>\n",
       "      <td>1460.555556</td>\n",
       "      <td>861.000000</td>\n",
       "      <td>5.211470</td>\n",
       "      <td>6.168459</td>\n",
       "      <td>68.706093</td>\n",
       "      <td>170.494624</td>\n",
       "      <td>10.494624</td>\n",
       "    </tr>\n",
       "  </tbody>\n",
       "</table>\n",
       "</div>"
      ],
      "text/plain": [
       "                      Unnamed: 0        pct      ser_num      datestop  \\\n",
       "crimsusp                                                                 \n",
       "ASSAULT            104995.821196  69.936164  1708.085218  4.543671e+06   \n",
       "AUTO STRIPPING     111334.108280  68.847134  1504.636943  4.918574e+06   \n",
       "BURGLARY            93709.754705  82.262861  1467.077792  3.989286e+06   \n",
       "CPCS                97109.068905  69.927562  1638.696702  4.285723e+06   \n",
       "CPM                 94888.671034  68.566769  1704.945079  4.142732e+06   \n",
       "CPSP               105977.327273  73.462338  1675.018182  4.621078e+06   \n",
       "CPW                 95331.007825  67.798213  1920.567070  4.188831e+06   \n",
       "CRIMINAL MISCHIEF  105398.082999  65.183400  1570.069612  4.623981e+06   \n",
       "CRIMINAL TRESPASS   87168.836959  61.913590  1701.335662  3.806168e+06   \n",
       "CSCS               102261.336996  66.479853  1666.400733  4.557295e+06   \n",
       "FELONY              97242.871563  72.762132  1812.831499  4.294911e+06   \n",
       "GRAFFITI            99701.021277  73.948936  1321.201064  4.213704e+06   \n",
       "GRAND LARCENY       97495.217474  71.188635  1495.748109  4.208124e+06   \n",
       "MISDEMEANOR         92739.146157  55.700740  1708.964233  4.030519e+06   \n",
       "PETIT LARCENY      101931.012354  57.788036  1421.405722  4.447650e+06   \n",
       "ROBBERY             91169.917598  76.459207  1639.460587  3.960032e+06   \n",
       "USFM                70005.512545  10.494624   982.813620  3.076637e+06   \n",
       "\n",
       "                      timestop      revcmd   ht_feet   ht_inch  height_in  \\\n",
       "crimsusp                                                                    \n",
       "ASSAULT            1223.016734  180.300899  5.185002  6.157422  68.377440   \n",
       "AUTO STRIPPING     1015.184713   95.942675  5.171975  6.770701  68.834395   \n",
       "BURGLARY           1297.413067   93.707026  5.186772  6.346299  68.587560   \n",
       "CPCS               1440.735571  166.654888  5.199058  6.328033  68.716726   \n",
       "CPM                1528.232506  332.695567  5.202398  6.221912  68.650683   \n",
       "CPSP               1362.038961  156.264935  5.168831  6.498701  68.524675   \n",
       "CPW                1408.328379  193.055563  5.213085  6.422281  68.979303   \n",
       "CRIMINAL MISCHIEF  1209.568942  280.900937  5.165997  6.392236  68.384203   \n",
       "CRIMINAL TRESPASS  1435.725205  387.168230  5.159848  6.293355  68.211535   \n",
       "CSCS               1445.295238  145.126007  5.216850  6.361172  68.963370   \n",
       "FELONY             1386.801516  194.112493  5.203640  6.376502  68.820176   \n",
       "GRAFFITI           1471.404255  102.277660  5.148936  6.421277  68.208511   \n",
       "GRAND LARCENY      1239.352118  237.020707  5.199414  6.437689  68.830654   \n",
       "MISDEMEANOR        1462.448109  367.496634  5.188196  6.273559  68.531912   \n",
       "PETIT LARCENY      1310.964239  356.491547  5.198309  6.071521  68.451235   \n",
       "ROBBERY            1388.300741  145.339965  5.183821  6.467365  68.673215   \n",
       "USFM               1460.555556  861.000000  5.211470  6.168459  68.706093   \n",
       "\n",
       "                       weight    addrpct  \n",
       "crimsusp                                  \n",
       "ASSAULT            168.374961  69.936164  \n",
       "AUTO STRIPPING     173.777070  68.847134  \n",
       "BURGLARY           171.262413  82.262861  \n",
       "CPCS               172.492933  69.927562  \n",
       "CPM                167.999164  68.566769  \n",
       "CPSP               169.677922  73.462338  \n",
       "CPW                172.569292  67.798213  \n",
       "CRIMINAL MISCHIEF  166.547523  65.183400  \n",
       "CRIMINAL TRESPASS  165.991219  61.913590  \n",
       "CSCS               175.075458  66.479853  \n",
       "FELONY             170.456716  72.762132  \n",
       "GRAFFITI           160.374468  73.948936  \n",
       "GRAND LARCENY      173.388238  71.188635  \n",
       "MISDEMEANOR        168.116112  55.700740  \n",
       "PETIT LARCENY      170.001951  57.788036  \n",
       "ROBBERY            168.217334  76.459207  \n",
       "USFM               170.494624  10.494624  "
      ]
     },
     "execution_count": 10,
     "metadata": {},
     "output_type": "execute_result"
    }
   ],
   "source": [
    "df.groupby('crimsusp').mean() # Was the type of crime they were suspected of crucial to the arrest?"
   ]
  },
  {
   "cell_type": "code",
   "execution_count": 11,
   "metadata": {},
   "outputs": [
    {
     "data": {
      "image/png": "[encoded data removed]",
      "text/plain": [
       "<Figure size 432x288 with 1 Axes>"
      ]
     },
     "metadata": {},
     "output_type": "display_data"
    }
   ],
   "source": [
    "%matplotlib inline\n",
    "pd.crosstab(df.crimsusp,df.arstmade).plot(kind='bar')\n",
    "plt.title('Arrest Frequency for Crime Suspected')\n",
    "plt.xlabel('Crime Suspected')\n",
    "plt.ylabel('Frequency of Arrest')\n",
    "plt.savefig('arrest_freq_crimsusp')\n",
    "\n",
    "# Crime Suspected may play a role in prediction, as some crimes do not have any arrests associated with them."
   ]
  },
  {
   "cell_type": "code",
   "execution_count": 12,
   "metadata": {
    "scrolled": true
   },
   "outputs": [
    {
     "data": {
      "text/html": [
       "<div>\n",
       "<style scoped>\n",
       "    .dataframe tbody tr th:only-of-type {\n",
       "        vertical-align: middle;\n",
       "    }\n",
       "\n",
       "    .dataframe tbody tr th {\n",
       "        vertical-align: top;\n",
       "    }\n",
       "\n",
       "    .dataframe thead th {\n",
       "        text-align: right;\n",
       "    }\n",
       "</style>\n",
       "<table border=\"1\" class=\"dataframe\">\n",
       "  <thead>\n",
       "    <tr style=\"text-align: right;\">\n",
       "      <th></th>\n",
       "      <th>Unnamed: 0</th>\n",
       "      <th>pct</th>\n",
       "      <th>ser_num</th>\n",
       "      <th>datestop</th>\n",
       "      <th>timestop</th>\n",
       "      <th>revcmd</th>\n",
       "      <th>ht_feet</th>\n",
       "      <th>ht_inch</th>\n",
       "      <th>height_in</th>\n",
       "      <th>weight</th>\n",
       "      <th>addrpct</th>\n",
       "    </tr>\n",
       "    <tr>\n",
       "      <th>ac_incid</th>\n",
       "      <th></th>\n",
       "      <th></th>\n",
       "      <th></th>\n",
       "      <th></th>\n",
       "      <th></th>\n",
       "      <th></th>\n",
       "      <th></th>\n",
       "      <th></th>\n",
       "      <th></th>\n",
       "      <th></th>\n",
       "      <th></th>\n",
       "    </tr>\n",
       "  </thead>\n",
       "  <tbody>\n",
       "    <tr>\n",
       "      <th>N</th>\n",
       "      <td>98203.257287</td>\n",
       "      <td>66.834291</td>\n",
       "      <td>1677.710836</td>\n",
       "      <td>4.325205e+06</td>\n",
       "      <td>1369.800819</td>\n",
       "      <td>221.964880</td>\n",
       "      <td>5.194046</td>\n",
       "      <td>6.332311</td>\n",
       "      <td>68.660865</td>\n",
       "      <td>170.282921</td>\n",
       "      <td>66.834291</td>\n",
       "    </tr>\n",
       "    <tr>\n",
       "      <th>Y</th>\n",
       "      <td>93409.694403</td>\n",
       "      <td>70.735205</td>\n",
       "      <td>1771.365596</td>\n",
       "      <td>4.064983e+06</td>\n",
       "      <td>1404.150509</td>\n",
       "      <td>230.203666</td>\n",
       "      <td>5.198766</td>\n",
       "      <td>6.381276</td>\n",
       "      <td>68.766462</td>\n",
       "      <td>169.941123</td>\n",
       "      <td>70.735205</td>\n",
       "    </tr>\n",
       "  </tbody>\n",
       "</table>\n",
       "</div>"
      ],
      "text/plain": [
       "            Unnamed: 0        pct      ser_num      datestop     timestop  \\\n",
       "ac_incid                                                                    \n",
       "N         98203.257287  66.834291  1677.710836  4.325205e+06  1369.800819   \n",
       "Y         93409.694403  70.735205  1771.365596  4.064983e+06  1404.150509   \n",
       "\n",
       "              revcmd   ht_feet   ht_inch  height_in      weight    addrpct  \n",
       "ac_incid                                                                    \n",
       "N         221.964880  5.194046  6.332311  68.660865  170.282921  66.834291  \n",
       "Y         230.203666  5.198766  6.381276  68.766462  169.941123  70.735205  "
      ]
     },
     "execution_count": 12,
     "metadata": {},
     "output_type": "execute_result"
    }
   ],
   "source": [
    "df.groupby('ac_incid').mean() # Did suspect being stopped in an area of high crime incidence, contribute to the arrest?"
   ]
  },
  {
   "cell_type": "code",
   "execution_count": 13,
   "metadata": {},
   "outputs": [
    {
     "data": {
      "image/png": "[encoded data removed]",
      "text/plain": [
       "<Figure size 432x288 with 1 Axes>"
      ]
     },
     "metadata": {},
     "output_type": "display_data"
    }
   ],
   "source": [
    "%matplotlib inline\n",
    "pd.crosstab(df.ac_incid,df.arstmade).plot(kind='bar')\n",
    "plt.title('Arrest Frequency for Area of High Crime Incidence')\n",
    "plt.xlabel('Area of High Crime Incidence')\n",
    "plt.ylabel('Frequency of Arrest')\n",
    "plt.savefig('arrest_freq_acincid')\n",
    "\n",
    "#We might have assumed that if an area of high crime would have resulted in more arrests, \n",
    "#but arrests seemed to be made in all areas with no discrimination. This probably would not \n",
    "#be a good predictor in our model."
   ]
  },
  {
   "cell_type": "code",
   "execution_count": 14,
   "metadata": {},
   "outputs": [
    {
     "data": {
      "text/html": [
       "<div>\n",
       "<style scoped>\n",
       "    .dataframe tbody tr th:only-of-type {\n",
       "        vertical-align: middle;\n",
       "    }\n",
       "\n",
       "    .dataframe tbody tr th {\n",
       "        vertical-align: top;\n",
       "    }\n",
       "\n",
       "    .dataframe thead th {\n",
       "        text-align: right;\n",
       "    }\n",
       "</style>\n",
       "<table border=\"1\" class=\"dataframe\">\n",
       "  <thead>\n",
       "    <tr style=\"text-align: right;\">\n",
       "      <th></th>\n",
       "      <th>Unnamed: 0</th>\n",
       "      <th>pct</th>\n",
       "      <th>ser_num</th>\n",
       "      <th>datestop</th>\n",
       "      <th>timestop</th>\n",
       "      <th>revcmd</th>\n",
       "      <th>ht_feet</th>\n",
       "      <th>ht_inch</th>\n",
       "      <th>height_in</th>\n",
       "      <th>weight</th>\n",
       "      <th>addrpct</th>\n",
       "    </tr>\n",
       "    <tr>\n",
       "      <th>sex</th>\n",
       "      <th></th>\n",
       "      <th></th>\n",
       "      <th></th>\n",
       "      <th></th>\n",
       "      <th></th>\n",
       "      <th></th>\n",
       "      <th></th>\n",
       "      <th></th>\n",
       "      <th></th>\n",
       "      <th></th>\n",
       "      <th></th>\n",
       "    </tr>\n",
       "  </thead>\n",
       "  <tbody>\n",
       "    <tr>\n",
       "      <th>F</th>\n",
       "      <td>93445.686450</td>\n",
       "      <td>64.597300</td>\n",
       "      <td>1683.211311</td>\n",
       "      <td>4.070013e+06</td>\n",
       "      <td>1389.081001</td>\n",
       "      <td>278.420234</td>\n",
       "      <td>5.012265</td>\n",
       "      <td>5.109730</td>\n",
       "      <td>65.256915</td>\n",
       "      <td>147.612200</td>\n",
       "      <td>64.597300</td>\n",
       "    </tr>\n",
       "    <tr>\n",
       "      <th>M</th>\n",
       "      <td>95587.676018</td>\n",
       "      <td>69.496014</td>\n",
       "      <td>1734.816958</td>\n",
       "      <td>4.182333e+06</td>\n",
       "      <td>1390.295061</td>\n",
       "      <td>223.180798</td>\n",
       "      <td>5.210369</td>\n",
       "      <td>6.454248</td>\n",
       "      <td>68.978672</td>\n",
       "      <td>171.728258</td>\n",
       "      <td>69.496014</td>\n",
       "    </tr>\n",
       "    <tr>\n",
       "      <th>Z</th>\n",
       "      <td>89035.088536</td>\n",
       "      <td>66.111805</td>\n",
       "      <td>1893.399546</td>\n",
       "      <td>3.889578e+06</td>\n",
       "      <td>1372.391033</td>\n",
       "      <td>214.234393</td>\n",
       "      <td>5.191827</td>\n",
       "      <td>6.207719</td>\n",
       "      <td>68.509648</td>\n",
       "      <td>169.657775</td>\n",
       "      <td>66.111805</td>\n",
       "    </tr>\n",
       "  </tbody>\n",
       "</table>\n",
       "</div>"
      ],
      "text/plain": [
       "       Unnamed: 0        pct      ser_num      datestop     timestop  \\\n",
       "sex                                                                    \n",
       "F    93445.686450  64.597300  1683.211311  4.070013e+06  1389.081001   \n",
       "M    95587.676018  69.496014  1734.816958  4.182333e+06  1390.295061   \n",
       "Z    89035.088536  66.111805  1893.399546  3.889578e+06  1372.391033   \n",
       "\n",
       "         revcmd   ht_feet   ht_inch  height_in      weight    addrpct  \n",
       "sex                                                                    \n",
       "F    278.420234  5.012265  5.109730  65.256915  147.612200  64.597300  \n",
       "M    223.180798  5.210369  6.454248  68.978672  171.728258  69.496014  \n",
       "Z    214.234393  5.191827  6.207719  68.509648  169.657775  66.111805  "
      ]
     },
     "execution_count": 14,
     "metadata": {},
     "output_type": "execute_result"
    }
   ],
   "source": [
    "df.groupby('sex').mean()"
   ]
  },
  {
   "cell_type": "code",
   "execution_count": 15,
   "metadata": {},
   "outputs": [
    {
     "data": {
      "image/png": "[encoded data removed]",
      "text/plain": [
       "<Figure size 432x288 with 1 Axes>"
      ]
     },
     "metadata": {},
     "output_type": "display_data"
    }
   ],
   "source": [
    "%matplotlib inline\n",
    "pd.crosstab(df.sex,df.arstmade).plot(kind='bar')\n",
    "plt.title('Arrest Frequency for Sex')\n",
    "plt.xlabel('Sex')\n",
    "plt.ylabel('Frequency of Arrest')\n",
    "plt.savefig('arrest_freq_sex')"
   ]
  },
  {
   "cell_type": "markdown",
   "metadata": {},
   "source": [
    "Sex seems to be a good predictor. It seems on average, that if females were indeed stopped, they had a higher ratio/chance of being arrested."
   ]
  },
  {
   "cell_type": "code",
   "execution_count": 16,
   "metadata": {},
   "outputs": [
    {
     "data": {
      "text/html": [
       "<div>\n",
       "<style scoped>\n",
       "    .dataframe tbody tr th:only-of-type {\n",
       "        vertical-align: middle;\n",
       "    }\n",
       "\n",
       "    .dataframe tbody tr th {\n",
       "        vertical-align: top;\n",
       "    }\n",
       "\n",
       "    .dataframe thead th {\n",
       "        text-align: right;\n",
       "    }\n",
       "</style>\n",
       "<table border=\"1\" class=\"dataframe\">\n",
       "  <thead>\n",
       "    <tr style=\"text-align: right;\">\n",
       "      <th></th>\n",
       "      <th>Unnamed: 0</th>\n",
       "      <th>pct</th>\n",
       "      <th>ser_num</th>\n",
       "      <th>datestop</th>\n",
       "      <th>timestop</th>\n",
       "      <th>revcmd</th>\n",
       "      <th>ht_feet</th>\n",
       "      <th>ht_inch</th>\n",
       "      <th>height_in</th>\n",
       "      <th>weight</th>\n",
       "      <th>addrpct</th>\n",
       "    </tr>\n",
       "    <tr>\n",
       "      <th>race</th>\n",
       "      <th></th>\n",
       "      <th></th>\n",
       "      <th></th>\n",
       "      <th></th>\n",
       "      <th></th>\n",
       "      <th></th>\n",
       "      <th></th>\n",
       "      <th></th>\n",
       "      <th></th>\n",
       "      <th></th>\n",
       "      <th></th>\n",
       "    </tr>\n",
       "  </thead>\n",
       "  <tbody>\n",
       "    <tr>\n",
       "      <th>A</th>\n",
       "      <td>100593.245048</td>\n",
       "      <td>85.024413</td>\n",
       "      <td>1504.183019</td>\n",
       "      <td>4.452966e+06</td>\n",
       "      <td>1342.425610</td>\n",
       "      <td>149.346384</td>\n",
       "      <td>5.106863</td>\n",
       "      <td>6.655151</td>\n",
       "      <td>67.937510</td>\n",
       "      <td>162.002917</td>\n",
       "      <td>85.024413</td>\n",
       "    </tr>\n",
       "    <tr>\n",
       "      <th>B</th>\n",
       "      <td>94692.343924</td>\n",
       "      <td>69.319473</td>\n",
       "      <td>1949.449978</td>\n",
       "      <td>4.150825e+06</td>\n",
       "      <td>1424.053577</td>\n",
       "      <td>253.260897</td>\n",
       "      <td>5.243279</td>\n",
       "      <td>6.253391</td>\n",
       "      <td>69.172736</td>\n",
       "      <td>171.404181</td>\n",
       "      <td>69.319473</td>\n",
       "    </tr>\n",
       "    <tr>\n",
       "      <th>I</th>\n",
       "      <td>95823.196359</td>\n",
       "      <td>78.361508</td>\n",
       "      <td>1501.023407</td>\n",
       "      <td>4.270843e+06</td>\n",
       "      <td>1374.888166</td>\n",
       "      <td>171.336801</td>\n",
       "      <td>5.122237</td>\n",
       "      <td>6.736021</td>\n",
       "      <td>68.202861</td>\n",
       "      <td>170.057217</td>\n",
       "      <td>78.361508</td>\n",
       "    </tr>\n",
       "    <tr>\n",
       "      <th>P</th>\n",
       "      <td>94240.969081</td>\n",
       "      <td>56.764634</td>\n",
       "      <td>1561.974032</td>\n",
       "      <td>4.107791e+06</td>\n",
       "      <td>1406.638701</td>\n",
       "      <td>208.100660</td>\n",
       "      <td>5.143825</td>\n",
       "      <td>6.529442</td>\n",
       "      <td>68.255341</td>\n",
       "      <td>170.323606</td>\n",
       "      <td>56.764634</td>\n",
       "    </tr>\n",
       "    <tr>\n",
       "      <th>Q</th>\n",
       "      <td>93625.168793</td>\n",
       "      <td>67.475485</td>\n",
       "      <td>1504.921072</td>\n",
       "      <td>4.064995e+06</td>\n",
       "      <td>1342.102048</td>\n",
       "      <td>216.424436</td>\n",
       "      <td>5.103667</td>\n",
       "      <td>6.526808</td>\n",
       "      <td>67.770816</td>\n",
       "      <td>167.803179</td>\n",
       "      <td>67.475485</td>\n",
       "    </tr>\n",
       "    <tr>\n",
       "      <th>U</th>\n",
       "      <td>97019.712163</td>\n",
       "      <td>74.209842</td>\n",
       "      <td>1675.346332</td>\n",
       "      <td>4.306442e+06</td>\n",
       "      <td>1329.422470</td>\n",
       "      <td>190.847725</td>\n",
       "      <td>5.181987</td>\n",
       "      <td>6.271123</td>\n",
       "      <td>68.454968</td>\n",
       "      <td>167.902507</td>\n",
       "      <td>74.209842</td>\n",
       "    </tr>\n",
       "    <tr>\n",
       "      <th>W</th>\n",
       "      <td>101752.735283</td>\n",
       "      <td>73.813962</td>\n",
       "      <td>1283.838442</td>\n",
       "      <td>4.441699e+06</td>\n",
       "      <td>1328.506665</td>\n",
       "      <td>158.916550</td>\n",
       "      <td>5.221358</td>\n",
       "      <td>6.363882</td>\n",
       "      <td>69.020175</td>\n",
       "      <td>170.737099</td>\n",
       "      <td>73.813962</td>\n",
       "    </tr>\n",
       "    <tr>\n",
       "      <th>Z</th>\n",
       "      <td>92337.347249</td>\n",
       "      <td>63.145731</td>\n",
       "      <td>1824.137761</td>\n",
       "      <td>4.112689e+06</td>\n",
       "      <td>1377.189753</td>\n",
       "      <td>200.794687</td>\n",
       "      <td>5.187097</td>\n",
       "      <td>6.299431</td>\n",
       "      <td>68.544592</td>\n",
       "      <td>170.509298</td>\n",
       "      <td>63.145731</td>\n",
       "    </tr>\n",
       "  </tbody>\n",
       "</table>\n",
       "</div>"
      ],
      "text/plain": [
       "         Unnamed: 0        pct      ser_num      datestop     timestop  \\\n",
       "race                                                                     \n",
       "A     100593.245048  85.024413  1504.183019  4.452966e+06  1342.425610   \n",
       "B      94692.343924  69.319473  1949.449978  4.150825e+06  1424.053577   \n",
       "I      95823.196359  78.361508  1501.023407  4.270843e+06  1374.888166   \n",
       "P      94240.969081  56.764634  1561.974032  4.107791e+06  1406.638701   \n",
       "Q      93625.168793  67.475485  1504.921072  4.064995e+06  1342.102048   \n",
       "U      97019.712163  74.209842  1675.346332  4.306442e+06  1329.422470   \n",
       "W     101752.735283  73.813962  1283.838442  4.441699e+06  1328.506665   \n",
       "Z      92337.347249  63.145731  1824.137761  4.112689e+06  1377.189753   \n",
       "\n",
       "          revcmd   ht_feet   ht_inch  height_in      weight    addrpct  \n",
       "race                                                                    \n",
       "A     149.346384  5.106863  6.655151  67.937510  162.002917  85.024413  \n",
       "B     253.260897  5.243279  6.253391  69.172736  171.404181  69.319473  \n",
       "I     171.336801  5.122237  6.736021  68.202861  170.057217  78.361508  \n",
       "P     208.100660  5.143825  6.529442  68.255341  170.323606  56.764634  \n",
       "Q     216.424436  5.103667  6.526808  67.770816  167.803179  67.475485  \n",
       "U     190.847725  5.181987  6.271123  68.454968  167.902507  74.209842  \n",
       "W     158.916550  5.221358  6.363882  69.020175  170.737099  73.813962  \n",
       "Z     200.794687  5.187097  6.299431  68.544592  170.509298  63.145731  "
      ]
     },
     "execution_count": 16,
     "metadata": {},
     "output_type": "execute_result"
    }
   ],
   "source": [
    "df.groupby('race').mean()"
   ]
  },
  {
   "cell_type": "code",
   "execution_count": 17,
   "metadata": {},
   "outputs": [
    {
     "data": {
      "image/png": "[encoded data removed]",
      "text/plain": [
       "<Figure size 432x288 with 1 Axes>"
      ]
     },
     "metadata": {},
     "output_type": "display_data"
    }
   ],
   "source": [
    "%matplotlib inline\n",
    "pd.crosstab(df.race,df.arstmade).plot(kind='bar')\n",
    "plt.title('Arrest Frequency for Race')\n",
    "plt.xlabel('Race')\n",
    "plt.ylabel('Frequency of Arrest')\n",
    "plt.savefig('arrest_freq_race')\n",
    "\n",
    "#Race could be a good predictor, as some races had little to no arrests."
   ]
  },
  {
   "cell_type": "code",
   "execution_count": 18,
   "metadata": {},
   "outputs": [
    {
     "data": {
      "text/html": [
       "<div>\n",
       "<style scoped>\n",
       "    .dataframe tbody tr th:only-of-type {\n",
       "        vertical-align: middle;\n",
       "    }\n",
       "\n",
       "    .dataframe tbody tr th {\n",
       "        vertical-align: top;\n",
       "    }\n",
       "\n",
       "    .dataframe thead th {\n",
       "        text-align: right;\n",
       "    }\n",
       "</style>\n",
       "<table border=\"1\" class=\"dataframe\">\n",
       "  <thead>\n",
       "    <tr style=\"text-align: right;\">\n",
       "      <th></th>\n",
       "      <th>Unnamed: 0</th>\n",
       "      <th>ser_num</th>\n",
       "      <th>datestop</th>\n",
       "      <th>timestop</th>\n",
       "      <th>revcmd</th>\n",
       "      <th>ht_feet</th>\n",
       "      <th>ht_inch</th>\n",
       "      <th>height_in</th>\n",
       "      <th>weight</th>\n",
       "      <th>addrpct</th>\n",
       "    </tr>\n",
       "    <tr>\n",
       "      <th>pct</th>\n",
       "      <th></th>\n",
       "      <th></th>\n",
       "      <th></th>\n",
       "      <th></th>\n",
       "      <th></th>\n",
       "      <th></th>\n",
       "      <th></th>\n",
       "      <th></th>\n",
       "      <th></th>\n",
       "      <th></th>\n",
       "    </tr>\n",
       "  </thead>\n",
       "  <tbody>\n",
       "    <tr>\n",
       "      <th>1</th>\n",
       "      <td>94082.468900</td>\n",
       "      <td>580.912679</td>\n",
       "      <td>3.965183e+06</td>\n",
       "      <td>1186.327751</td>\n",
       "      <td>401.215311</td>\n",
       "      <td>5.229665</td>\n",
       "      <td>6.349282</td>\n",
       "      <td>69.105263</td>\n",
       "      <td>172.190191</td>\n",
       "      <td>1.0</td>\n",
       "    </tr>\n",
       "    <tr>\n",
       "      <th>5</th>\n",
       "      <td>104020.000000</td>\n",
       "      <td>569.639274</td>\n",
       "      <td>4.440519e+06</td>\n",
       "      <td>1285.458911</td>\n",
       "      <td>200.728922</td>\n",
       "      <td>5.168623</td>\n",
       "      <td>6.389541</td>\n",
       "      <td>68.413020</td>\n",
       "      <td>167.735326</td>\n",
       "      <td>5.0</td>\n",
       "    </tr>\n",
       "    <tr>\n",
       "      <th>6</th>\n",
       "      <td>91313.617857</td>\n",
       "      <td>640.938393</td>\n",
       "      <td>3.786736e+06</td>\n",
       "      <td>954.633929</td>\n",
       "      <td>193.209821</td>\n",
       "      <td>5.267857</td>\n",
       "      <td>6.123214</td>\n",
       "      <td>69.337500</td>\n",
       "      <td>173.402679</td>\n",
       "      <td>6.0</td>\n",
       "    </tr>\n",
       "    <tr>\n",
       "      <th>7</th>\n",
       "      <td>102003.898643</td>\n",
       "      <td>562.391855</td>\n",
       "      <td>4.627714e+06</td>\n",
       "      <td>1398.981900</td>\n",
       "      <td>358.239819</td>\n",
       "      <td>5.217195</td>\n",
       "      <td>6.323982</td>\n",
       "      <td>68.930317</td>\n",
       "      <td>170.411765</td>\n",
       "      <td>7.0</td>\n",
       "    </tr>\n",
       "    <tr>\n",
       "      <th>9</th>\n",
       "      <td>100776.204883</td>\n",
       "      <td>1168.050742</td>\n",
       "      <td>4.398586e+06</td>\n",
       "      <td>1233.343705</td>\n",
       "      <td>271.092389</td>\n",
       "      <td>5.205840</td>\n",
       "      <td>6.248444</td>\n",
       "      <td>68.718526</td>\n",
       "      <td>168.865007</td>\n",
       "      <td>9.0</td>\n",
       "    </tr>\n",
       "    <tr>\n",
       "      <th>...</th>\n",
       "      <td>...</td>\n",
       "      <td>...</td>\n",
       "      <td>...</td>\n",
       "      <td>...</td>\n",
       "      <td>...</td>\n",
       "      <td>...</td>\n",
       "      <td>...</td>\n",
       "      <td>...</td>\n",
       "      <td>...</td>\n",
       "      <td>...</td>\n",
       "    </tr>\n",
       "    <tr>\n",
       "      <th>115</th>\n",
       "      <td>101561.389573</td>\n",
       "      <td>611.972512</td>\n",
       "      <td>4.327586e+06</td>\n",
       "      <td>1248.333649</td>\n",
       "      <td>288.274882</td>\n",
       "      <td>5.148815</td>\n",
       "      <td>6.253081</td>\n",
       "      <td>68.038863</td>\n",
       "      <td>169.168720</td>\n",
       "      <td>115.0</td>\n",
       "    </tr>\n",
       "    <tr>\n",
       "      <th>120</th>\n",
       "      <td>96923.753472</td>\n",
       "      <td>2266.338194</td>\n",
       "      <td>4.360657e+06</td>\n",
       "      <td>1407.177546</td>\n",
       "      <td>137.192130</td>\n",
       "      <td>5.195833</td>\n",
       "      <td>6.413889</td>\n",
       "      <td>68.763889</td>\n",
       "      <td>170.895370</td>\n",
       "      <td>120.0</td>\n",
       "    </tr>\n",
       "    <tr>\n",
       "      <th>121</th>\n",
       "      <td>174484.395078</td>\n",
       "      <td>427.389896</td>\n",
       "      <td>8.993386e+06</td>\n",
       "      <td>1221.068653</td>\n",
       "      <td>145.720207</td>\n",
       "      <td>5.242228</td>\n",
       "      <td>6.049223</td>\n",
       "      <td>68.955959</td>\n",
       "      <td>171.423575</td>\n",
       "      <td>121.0</td>\n",
       "    </tr>\n",
       "    <tr>\n",
       "      <th>122</th>\n",
       "      <td>103826.454291</td>\n",
       "      <td>1097.084128</td>\n",
       "      <td>4.594957e+06</td>\n",
       "      <td>1446.758273</td>\n",
       "      <td>132.324173</td>\n",
       "      <td>5.219854</td>\n",
       "      <td>6.209198</td>\n",
       "      <td>68.847448</td>\n",
       "      <td>169.691531</td>\n",
       "      <td>122.0</td>\n",
       "    </tr>\n",
       "    <tr>\n",
       "      <th>123</th>\n",
       "      <td>107240.292969</td>\n",
       "      <td>519.073242</td>\n",
       "      <td>4.526456e+06</td>\n",
       "      <td>1464.023438</td>\n",
       "      <td>127.188477</td>\n",
       "      <td>5.183594</td>\n",
       "      <td>6.588867</td>\n",
       "      <td>68.791992</td>\n",
       "      <td>168.985352</td>\n",
       "      <td>123.0</td>\n",
       "    </tr>\n",
       "  </tbody>\n",
       "</table>\n",
       "<p>77 rows × 10 columns</p>\n",
       "</div>"
      ],
      "text/plain": [
       "        Unnamed: 0      ser_num      datestop     timestop      revcmd  \\\n",
       "pct                                                                      \n",
       "1     94082.468900   580.912679  3.965183e+06  1186.327751  401.215311   \n",
       "5    104020.000000   569.639274  4.440519e+06  1285.458911  200.728922   \n",
       "6     91313.617857   640.938393  3.786736e+06   954.633929  193.209821   \n",
       "7    102003.898643   562.391855  4.627714e+06  1398.981900  358.239819   \n",
       "9    100776.204883  1168.050742  4.398586e+06  1233.343705  271.092389   \n",
       "..             ...          ...           ...          ...         ...   \n",
       "115  101561.389573   611.972512  4.327586e+06  1248.333649  288.274882   \n",
       "120   96923.753472  2266.338194  4.360657e+06  1407.177546  137.192130   \n",
       "121  174484.395078   427.389896  8.993386e+06  1221.068653  145.720207   \n",
       "122  103826.454291  1097.084128  4.594957e+06  1446.758273  132.324173   \n",
       "123  107240.292969   519.073242  4.526456e+06  1464.023438  127.188477   \n",
       "\n",
       "      ht_feet   ht_inch  height_in      weight  addrpct  \n",
       "pct                                                      \n",
       "1    5.229665  6.349282  69.105263  172.190191      1.0  \n",
       "5    5.168623  6.389541  68.413020  167.735326      5.0  \n",
       "6    5.267857  6.123214  69.337500  173.402679      6.0  \n",
       "7    5.217195  6.323982  68.930317  170.411765      7.0  \n",
       "9    5.205840  6.248444  68.718526  168.865007      9.0  \n",
       "..        ...       ...        ...         ...      ...  \n",
       "115  5.148815  6.253081  68.038863  169.168720    115.0  \n",
       "120  5.195833  6.413889  68.763889  170.895370    120.0  \n",
       "121  5.242228  6.049223  68.955959  171.423575    121.0  \n",
       "122  5.219854  6.209198  68.847448  169.691531    122.0  \n",
       "123  5.183594  6.588867  68.791992  168.985352    123.0  \n",
       "\n",
       "[77 rows x 10 columns]"
      ]
     },
     "execution_count": 18,
     "metadata": {},
     "output_type": "execute_result"
    }
   ],
   "source": [
    "df.groupby('pct').mean() # Did precinct # matter for arrests?"
   ]
  },
  {
   "cell_type": "code",
   "execution_count": 19,
   "metadata": {},
   "outputs": [
    {
     "data": {
      "image/png": "[encoded data removed]",
      "text/plain": [
       "<Figure size 432x288 with 1 Axes>"
      ]
     },
     "metadata": {},
     "output_type": "display_data"
    }
   ],
   "source": [
    "%matplotlib inline\n",
    "pd.crosstab(df.pct,df.arstmade).plot(kind='bar')\n",
    "plt.title('Arrest Frequency by Precinct')\n",
    "plt.xlabel('Precinct')\n",
    "plt.ylabel('Frequency of Arrest')\n",
    "plt.savefig('arrest_freq_pct')\n",
    "\n",
    "# A harder graph to interpret, \n",
    "# but we can see that some precincts had more high frequency of arrests than others."
   ]
  },
  {
   "cell_type": "markdown",
   "metadata": {},
   "source": [
    "\n",
    "## Create dummies"
   ]
  },
  {
   "cell_type": "code",
   "execution_count": 20,
   "metadata": {},
   "outputs": [
    {
     "data": {
      "text/plain": [
       "Unnamed: 0     int64\n",
       "pct            int64\n",
       "ser_num        int64\n",
       "datestop       int64\n",
       "timestop       int64\n",
       "recstat       object\n",
       "inout         object\n",
       "trhsloc       object\n",
       "crimsusp      object\n",
       "typeofid      object\n",
       "explnstp      object\n",
       "othpers       object\n",
       "arstmade      object\n",
       "offunif       object\n",
       "frisked       object\n",
       "searched      object\n",
       "ac_proxm      object\n",
       "rf_attir      object\n",
       "cs_cloth      object\n",
       "ac_incid      object\n",
       "repcmd        object\n",
       "revcmd         int64\n",
       "sex           object\n",
       "race          object\n",
       "age           object\n",
       "ht_feet        int64\n",
       "ht_inch        int64\n",
       "height_in      int64\n",
       "weight         int64\n",
       "haircolr      object\n",
       "eyecolor      object\n",
       "build         object\n",
       "city          object\n",
       "addrpct        int64\n",
       "dtype: object"
      ]
     },
     "execution_count": 20,
     "metadata": {},
     "output_type": "execute_result"
    }
   ],
   "source": [
    "df.dtypes"
   ]
  },
  {
   "cell_type": "code",
   "execution_count": 21,
   "metadata": {},
   "outputs": [],
   "source": [
    "# Convert precinct to OBJECT\n",
    "df['pct'] = df['pct'].astype('category')\n",
    "\n",
    "\n",
    "# Convert these OBJECT columns to NUMERIC, so they are not changed as part of the BinaryEncoders code\n",
    "\n",
    "df['repcmd'] = df['repcmd'].astype('category')\n",
    "df['repcmd'] = df['repcmd'].cat.codes\n",
    "\n",
    "df['age'] = df['age'].astype('category')\n",
    "df['age'] = df['age'].cat.codes"
   ]
  },
  {
   "cell_type": "code",
   "execution_count": 22,
   "metadata": {},
   "outputs": [],
   "source": [
    "cat_list = ['pct','recstat','inout','trhsloc','crimsusp','typeofid','explnstp','othpers',\n",
    " 'arstmade','offunif','frisked','searched','ac_proxm','rf_attir','cs_cloth',\n",
    "'ac_incid','sex','race','hairclr','eyecolor','build','city']"
   ]
  },
  {
   "cell_type": "code",
   "execution_count": 23,
   "metadata": {},
   "outputs": [],
   "source": [
    "import category_encoders as ce\n",
    "\n",
    "ce_bin = ce.BinaryEncoder()\n",
    "df = ce_bin.fit_transform(df)"
   ]
  },
  {
   "cell_type": "code",
   "execution_count": 24,
   "metadata": {},
   "outputs": [],
   "source": [
    "df['arstmade_0']\n",
    "\n",
    "df = df.drop('arstmade_1',axis=1) # we will drop this column as our predictor variable will be arstmade_0"
   ]
  },
  {
   "cell_type": "code",
   "execution_count": 25,
   "metadata": {},
   "outputs": [],
   "source": [
    "## X = dataset, y = target\n",
    "\n",
    "X = df.loc[:, df.columns != 'arstmade_0']\n",
    "y = df.loc[:, df.columns == 'arstmade_0']"
   ]
  },
  {
   "cell_type": "markdown",
   "metadata": {},
   "source": [
    "## Implement Initial Logistic Regression Model"
   ]
  },
  {
   "cell_type": "code",
   "execution_count": 26,
   "metadata": {},
   "outputs": [
    {
     "data": {
      "text/plain": [
       "LogisticRegression(C=1.0, class_weight=None, dual=False, fit_intercept=True,\n",
       "                   intercept_scaling=1, l1_ratio=None, max_iter=100,\n",
       "                   multi_class='auto', n_jobs=None, penalty='l2',\n",
       "                   random_state=None, solver='lbfgs', tol=0.0001, verbose=0,\n",
       "                   warm_start=False)"
      ]
     },
     "execution_count": 26,
     "metadata": {},
     "output_type": "execute_result"
    }
   ],
   "source": [
    "from sklearn.linear_model import LogisticRegression\n",
    "from sklearn import metrics\n",
    "\n",
    "# Per the Rubric instructions, we will utilize a 80/20 split for our training/test data\n",
    "\n",
    "X_train, X_test, y_train, y_test = train_test_split(X, y, test_size=0.2, random_state=0)\n",
    "logreg = LogisticRegression()\n",
    "logreg.fit(X_train, y_train)"
   ]
  },
  {
   "cell_type": "markdown",
   "metadata": {},
   "source": [
    "### Predict + Accuracy score "
   ]
  },
  {
   "cell_type": "code",
   "execution_count": 27,
   "metadata": {},
   "outputs": [
    {
     "name": "stdout",
     "output_type": "stream",
     "text": [
      "Accuracy of logistic regression classifier on test set: 0.9237751561415684\n"
     ]
    }
   ],
   "source": [
    "y_pred = logreg.predict(X_test)\n",
    "\n",
    "print('Accuracy of logistic regression classifier on test set:', logreg.score(X_test, y_test))"
   ]
  },
  {
   "cell_type": "markdown",
   "metadata": {},
   "source": [
    "### Confusion Matrix"
   ]
  },
  {
   "cell_type": "code",
   "execution_count": 28,
   "metadata": {},
   "outputs": [
    {
     "name": "stdout",
     "output_type": "stream",
     "text": [
      "[[33279     0]\n",
      " [ 2746     0]]\n"
     ]
    }
   ],
   "source": [
    "from sklearn.metrics import confusion_matrix\n",
    "\n",
    "confusion_matrix = confusion_matrix(y_test, y_pred)\n",
    "print(confusion_matrix)"
   ]
  },
  {
   "cell_type": "markdown",
   "metadata": {},
   "source": [
    "### Precision + Recall"
   ]
  },
  {
   "cell_type": "code",
   "execution_count": 29,
   "metadata": {},
   "outputs": [
    {
     "name": "stdout",
     "output_type": "stream",
     "text": [
      "              precision    recall  f1-score   support\n",
      "\n",
      "           0       0.92      1.00      0.96     33279\n",
      "           1       0.00      0.00      0.00      2746\n",
      "\n",
      "    accuracy                           0.92     36025\n",
      "   macro avg       0.46      0.50      0.48     36025\n",
      "weighted avg       0.85      0.92      0.89     36025\n",
      "\n"
     ]
    }
   ],
   "source": [
    "from sklearn.metrics import classification_report\n",
    "print(classification_report(y_test, y_pred))"
   ]
  },
  {
   "cell_type": "markdown",
   "metadata": {},
   "source": [
    "## Recursive Feature Elimination"
   ]
  },
  {
   "cell_type": "markdown",
   "metadata": {},
   "source": [
    "Let's do some RFE to repeatedly see which variables are pivotal to our Logistic Regression model!"
   ]
  },
  {
   "cell_type": "code",
   "execution_count": 34,
   "metadata": {},
   "outputs": [
    {
     "name": "stdout",
     "output_type": "stream",
     "text": [
      "Features sorted by their rank:\n",
      "[(1, 'arstmade_0'), (1, 'inout_0'), (1, 'offunif_1'), (1, 'pct_2'), (1, 'rf_attir_1'), (1, 'searched_0'), (1, 'sex_1'), (1, 'trhsloc_1'), (1, 'typeofid_1'), (1, 'typeofid_2'), (2, 'ac_proxm_0'), (3, 'ac_incid_0'), (4, 'ac_proxm_1'), (5, 'pct_6'), (6, 'recstat_0'), (7, 'pct_5'), (8, 'crimsusp_3'), (9, 'race_2'), (10, 'pct_3'), (11, 'city_2'), (12, 'build_2'), (13, 'haircolr_3'), (14, 'othpers_1'), (15, 'ht_feet'), (16, 'city_1'), (17, 'pct_4'), (18, 'ht_inch'), (19, 'city_3'), (20, 'race_3'), (21, 'eyecolor_3'), (22, 'age'), (23, 'ac_incid_1'), (24, 'repcmd'), (25, 'explnstp_1'), (26, 'height_in'), (27, 'timestop'), (28, 'ser_num'), (29, 'Unnamed: 0'), (30, 'datestop'), (31, 'pct_7'), (32, 'recstat_1'), (33, 'frisked_0'), (34, 'crimsusp_4'), (35, 'frisked_1'), (36, 'build_1'), (37, 'cs_cloth_1'), (38, 'race_0'), (39, 'crimsusp_5'), (40, 'city_0'), (41, 'trhsloc_2'), (42, 'inout_1'), (43, 'searched_1'), (44, 'offunif_0'), (45, 'othpers_0'), (46, 'race_1'), (47, 'haircolr_2'), (48, 'pct_1'), (49, 'rf_attir_0'), (50, 'cs_cloth_0'), (51, 'eyecolor_1'), (52, 'build_0'), (53, 'sex_0'), (54, 'crimsusp_2'), (55, 'eyecolor_2'), (56, 'haircolr_0'), (57, 'typeofid_0'), (58, 'sex_2'), (59, 'haircolr_1'), (60, 'crimsusp_1'), (61, 'explnstp_0'), (62, 'eyecolor_0'), (63, 'trhsloc_0'), (64, 'weight'), (65, 'crimsusp_0'), (66, 'haircolr_4'), (67, 'build_3'), (68, 'pct_0'), (69, 'revcmd'), (70, 'eyecolor_4')]\n"
     ]
    }
   ],
   "source": [
    "from sklearn.feature_selection import RFE\n",
    "from sklearn.linear_model import LogisticRegression\n",
    "\n",
    "X = df.loc[:, df.columns != 'arstmade_0']\n",
    "y = df.loc[:, df.columns == 'arstmade_0']\n",
    "\n",
    "#df_rfe_vars = df.columns.values.tolist()\n",
    "#y = ['arstmade_0']\n",
    "#X = [i for i in df_rfe_vars if i not in y]\n",
    "\n",
    "col_names = list(df.columns.values)\n",
    "\n",
    "logreg = LogisticRegression()\n",
    "\n",
    "rfe = RFE(logreg, 10) # select 10 best columns to predict on\n",
    "rfe = rfe.fit(X, y)\n",
    "\n",
    "print(\"Features sorted by their rank:\")\n",
    "print(sorted(zip(map(lambda x: round(x, 4), rfe.ranking_), col_names)))"
   ]
  },
  {
   "cell_type": "code",
   "execution_count": 35,
   "metadata": {},
   "outputs": [],
   "source": [
    "## According to recursive feature elimination, these are the 10 best predictor variables\n",
    "\n",
    "rfe_cols = ['inout_0', 'offunif_1','pct_2','rf_attir_1','searched_0',\n",
    "            'sex_1','trhsloc_1','typeofid_1', 'ac_proxm_0','ac_incid_0',]\n",
    "\n",
    "\n",
    "\n",
    "## Assign new X and y values\n",
    "X = X[rfe_cols]\n",
    "y = y['arstmade_0']"
   ]
  },
  {
   "cell_type": "markdown",
   "metadata": {},
   "source": [
    "According to recursive feature elimination, these are the 10 best predictor variables."
   ]
  },
  {
   "cell_type": "markdown",
   "metadata": {},
   "source": [
    "## Logistic Regression (RFE Model Fit)"
   ]
  },
  {
   "cell_type": "code",
   "execution_count": 36,
   "metadata": {},
   "outputs": [
    {
     "data": {
      "text/plain": [
       "LogisticRegression(C=1.0, class_weight=None, dual=False, fit_intercept=True,\n",
       "                   intercept_scaling=1, l1_ratio=None, max_iter=100,\n",
       "                   multi_class='auto', n_jobs=None, penalty='l2',\n",
       "                   random_state=None, solver='lbfgs', tol=0.0001, verbose=0,\n",
       "                   warm_start=False)"
      ]
     },
     "execution_count": 36,
     "metadata": {},
     "output_type": "execute_result"
    }
   ],
   "source": [
    "from sklearn.linear_model import LogisticRegression\n",
    "from sklearn import metrics\n",
    "\n",
    "# Per the Rubric instructions, we will utilize a 80/20 split for our training/test data\n",
    "X_train, X_test, y_train, y_test = train_test_split(X, y, test_size=0.2, random_state=0) \n",
    "\n",
    "logreg = LogisticRegression()\n",
    "logreg.fit(X_train, y_train)"
   ]
  },
  {
   "cell_type": "markdown",
   "metadata": {},
   "source": [
    "### Predict + Accuracy Score"
   ]
  },
  {
   "cell_type": "code",
   "execution_count": 37,
   "metadata": {},
   "outputs": [
    {
     "name": "stdout",
     "output_type": "stream",
     "text": [
      "Accuracy of logistic regression classifier on test set: 0.9316030534351145\n"
     ]
    }
   ],
   "source": [
    "y_pred = logreg.predict(X_test)\n",
    "print('Accuracy of logistic regression classifier on test set:', logreg.score(X_test, y_test))"
   ]
  },
  {
   "cell_type": "markdown",
   "metadata": {},
   "source": [
    "### Confusion Matrix"
   ]
  },
  {
   "cell_type": "code",
   "execution_count": 38,
   "metadata": {},
   "outputs": [
    {
     "name": "stdout",
     "output_type": "stream",
     "text": [
      "[[32550   729]\n",
      " [ 1735  1011]]\n"
     ]
    }
   ],
   "source": [
    "from sklearn.metrics import confusion_matrix\n",
    "confusion_matrix = confusion_matrix(y_test, y_pred)\n",
    "print(confusion_matrix)"
   ]
  },
  {
   "cell_type": "markdown",
   "metadata": {},
   "source": [
    "### Precision + Recall"
   ]
  },
  {
   "cell_type": "code",
   "execution_count": 39,
   "metadata": {},
   "outputs": [
    {
     "name": "stdout",
     "output_type": "stream",
     "text": [
      "              precision    recall  f1-score   support\n",
      "\n",
      "           0       0.95      0.98      0.96     33279\n",
      "           1       0.58      0.37      0.45      2746\n",
      "\n",
      "    accuracy                           0.93     36025\n",
      "   macro avg       0.77      0.67      0.71     36025\n",
      "weighted avg       0.92      0.93      0.92     36025\n",
      "\n"
     ]
    }
   ],
   "source": [
    "from sklearn.metrics import classification_report\n",
    "print(classification_report(y_test, y_pred))"
   ]
  },
  {
   "cell_type": "markdown",
   "metadata": {},
   "source": [
    "## Observations of LogReg Model #1 (70 predictors) vs LogReg Model #2 (10 predictors):"
   ]
  },
  {
   "cell_type": "markdown",
   "metadata": {},
   "source": [
    "- Accuracy is much higher with LESS predictors (92% vs 93%)\n",
    "- Precision score is quite close with LESS predictors (0.92) vs less predictors (0.95)\n",
    "- Recall is higher with more predictors (1.0) vs less predictors (0.98)\n",
    "- f1-score is the same at (0.96)\n",
    "\n",
    "#### Good news is that the predictions are relatively consistent across both models ~ 92% accuracy."
   ]
  },
  {
   "cell_type": "markdown",
   "metadata": {},
   "source": [
    "## Recap + Summary"
   ]
  },
  {
   "cell_type": "markdown",
   "metadata": {},
   "source": [
    "I decided on selecting 10 predictors, because in the business world, there are only so many initiaives or factors we can focus on as a company. There are situations where a model with more predictors would yield a higher accuracy, fortunately in this case, the model with less predictors yielded a higher accuracy.\n",
    "\n",
    "However, it is simply not practical to ask a company to focus on 70 different initiatives. It would be more productive and fruitful to focus on 10 initiatives. We can certainly trim down the features to a lesser number (3-5), but the accuracy of prediction may suffer. The recursive feature elimination observed above is a great way to help focus on what's ultimately the most important for prediction."
   ]
  }
 ],
 "metadata": {
  "kernelspec": {
   "display_name": "Python 3",
   "language": "python",
   "name": "python3"
  },
  "language_info": {
   "codemirror_mode": {
    "name": "ipython",
    "version": 3
   },
   "file_extension": ".py",
   "mimetype": "text/x-python",
   "name": "python",
   "nbconvert_exporter": "python",
   "pygments_lexer": "ipython3",
   "version": "3.6.4"
  }
 },
 "nbformat": 4,
 "nbformat_minor": 2
}
